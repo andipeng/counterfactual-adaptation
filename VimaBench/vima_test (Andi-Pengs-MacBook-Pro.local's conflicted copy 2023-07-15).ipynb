{
 "cells": [
  {
   "cell_type": "code",
   "execution_count": 2,
   "id": "77db741a-d9b8-4cd4-acdd-c2477e5e6a1c",
   "metadata": {},
   "outputs": [
    {
     "name": "stdout",
     "output_type": "stream",
     "text": [
      "The autoreload extension is already loaded. To reload it, use:\n",
      "  %reload_ext autoreload\n"
     ]
    },
    {
     "name": "stderr",
     "output_type": "stream",
     "text": [
      "pybullet build time: Jun  2 2023 13:47:44\n"
     ]
    },
    {
     "name": "stdout",
     "output_type": "stream",
     "text": [
      "[INFO] 17 tasks loaded\n"
     ]
    }
   ],
   "source": [
    "from __future__ import print_function, division, unicode_literals\n",
    "%load_ext autoreload\n",
    "%autoreload 2\n",
    "import math\n",
    "import time\n",
    "import os\n",
    "import copy\n",
    "import unicodedata\n",
    "import string\n",
    "import re\n",
    "import random\n",
    "import io\n",
    "import json\n",
    "from io import open\n",
    "\n",
    "import torch\n",
    "import torch.optim as optim\n",
    "import torch.nn as nn\n",
    "import torch.nn.functional as F\n",
    "from torch.utils.data import Dataset, DataLoader\n",
    "from torch import distributions as pyd\n",
    "device = torch.device(\"cuda\" if torch.cuda.is_available() else \"cpu\")\n",
    "\n",
    "import pickle\n",
    "import numpy as np\n",
    "import matplotlib\n",
    "import matplotlib.pyplot as plt\n",
    "from matplotlib.backends.backend_agg import FigureCanvasAgg as FigureCanvas\n",
    "from matplotlib import cm\n",
    "%matplotlib inline\n",
    "import seaborn as sns\n",
    "from PIL import Image\n",
    "import cv2\n",
    "from tqdm import tqdm\n",
    "\n",
    "# Ignore warnings\n",
    "import warnings\n",
    "warnings.filterwarnings(\"ignore\")\n",
    "plt.ion()   # interactive mode - o\n",
    "\n",
    "#from sentence_transformers import SentenceTransformer\n",
    "#lang_model = SentenceTransformer('all-MiniLM-L6-v2', device=device)\n",
    "\n",
    "import vima_bench\n",
    "from vima_bench import PARTITION_TO_SPECS"
   ]
  },
  {
   "cell_type": "code",
   "execution_count": 9,
   "id": "fa0f9ffc-1863-416a-887e-44f008b71c87",
   "metadata": {},
   "outputs": [],
   "source": [
    "# Custom weight init for Conv2D and Linear layers\n",
    "def weight_init(m):\n",
    "    if isinstance(m, nn.Linear):\n",
    "        nn.init.orthogonal_(m.weight.data)\n",
    "        if hasattr(m.bias, \"data\"):\n",
    "            m.bias.data.fill_(0.0)\n",
    "                \n",
    "# helper mlp init function\n",
    "def mlp(input_dim, output_dim, hidden_dim, hidden_depth, output_mod=None):\n",
    "    if hidden_depth == 0:\n",
    "        mods = [nn.Linear(input_dim, output_dim)]\n",
    "    else:\n",
    "        mods = [nn.Linear(input_dim, hidden_dim), nn.ReLU(inplace=True)]\n",
    "        for i in range(hidden_depth - 1):\n",
    "            mods += [nn.Linear(hidden_dim, hidden_dim), nn.ReLU(inplace=True)]\n",
    "        mods.append(nn.Linear(hidden_dim, output_dim))\n",
    "    if output_mod is not None:\n",
    "        mods.append(output_mod)\n",
    "    trunk = nn.Sequential(*mods)\n",
    "    return trunk\n",
    "\n",
    "class Flatten(nn.Module):\n",
    "    def forward(self, x):\n",
    "        return x.view(x.size(0), -1)\n",
    "\n",
    "# MLP policy\n",
    "class MLPPolicy(nn.Module):\n",
    "    def __init__(\n",
    "        self, obs_dim, action_dim, hidden_dim, hidden_depth, output_mod=None\n",
    "    ):\n",
    "        super().__init__()\n",
    "        self.trunk = mlp(input_dim, output_dim, hidden_dim, hidden_depth, output_mod)\n",
    "        self.outputs = dict()\n",
    "        self.apply(weight_init)\n",
    "\n",
    "    def forward(self, x):\n",
    "        return self.trunk(x)\n",
    "\n",
    "# MLP policy\n",
    "class CNNPolicy(nn.Module):\n",
    "    def __init__(\n",
    "        self, action_dim, hidden_size, mask=False, output_mod=None):\n",
    "        super().__init__()\n",
    "        self.mask = mask\n",
    "        self.conv = nn.Sequential(\n",
    "            nn.Conv2d(3,32,kernel_size=8,stride=4), nn.ReLU(inplace=True), nn.BatchNorm2d(32), #(b_size,3,36,72)=>(b_size,32,8,17)\n",
    "            nn.Conv2d(32,64,kernel_size=4,stride=2), nn.ReLU(inplace=True), nn.BatchNorm2d(64), #(b_size,32,8,17)=>(b_size,64,3,7)\n",
    "            nn.Conv2d(64,32,kernel_size=3,stride=1), nn.LeakyReLU(inplace=True), Flatten(), nn.BatchNorm1d(32*1*5), #(b_size,64,3,7)=>(b_size,32,1,5)=>(b_size,32*1*5)\n",
    "            nn.Linear(32*1*5, hidden_size) #(b_size,32*1*5)=>(b_size,hidden_size)\n",
    "        )\n",
    "        self.process = mlp(hidden_size, 1*36*72, hidden_dim=1000, hidden_depth=1, output_mod=nn.Sigmoid()) #(b_size,hidden_size*2)=>(b_size,32*1*1)\n",
    "        self.cnntrunk = nn.Sequential(\n",
    "            nn.Conv2d(3, 32, kernel_size=8, stride=4), nn.ReLU(inplace=True), nn.BatchNorm2d(32), #(b_size,3,36,72)=>(b_size,32,8,17)\n",
    "            nn.Conv2d(32, 64, kernel_size=4, stride=2), nn.ReLU(inplace=True), nn.BatchNorm2d(64), #(b_size,32,8,17)=>(b_size,64,3,7)\n",
    "            nn.Conv2d(64, 32, kernel_size=3, stride=1), nn.LeakyReLU(inplace=True), nn.BatchNorm2d(32), Flatten(), #(b_size,64,3,7)=>(b_size,32,1,5)=>(b_size,32*1*5)\n",
    "            nn.Linear(32*1*5, action_dim)#, nn.LeakyReLU(inplace=True), nn.BatchNorm1d(32), #(b_size,32*1*5)=>(b_size,action_dim)\n",
    "        )\n",
    "        self.mlptrunk = mlp(hidden_size*2, action_dim, hidden_dim=100, hidden_depth=1) #(b_size,hidden_size*2)=>(b_size,action_dim)\n",
    "        self.apply(weight_init)\n",
    "\n",
    "    def forward(self, state):\n",
    "        state = state/255.0 # process image + switch channels\n",
    "        state = state.permute(0,3,1,2)\n",
    "        \n",
    "        if self.mask:\n",
    "            state_embed = self.conv(state)\n",
    "            img_mask = self.process(state_embed)\n",
    "            img_mask = img_mask.reshape(-1,1,36,72)\n",
    "            masked_state = state * img_mask # apply mask to full state\n",
    "            pred = self.cnntrunk(masked_state)\n",
    "            return [pred, masked_state, img_mask]\n",
    "        else:\n",
    "            pred = self.cnntrunk(state)\n",
    "            return pred"
   ]
  },
  {
   "cell_type": "code",
   "execution_count": 5,
   "id": "e07cbd67-71e4-4c60-8662-070077913cc0",
   "metadata": {},
   "outputs": [],
   "source": [
    "def downsize_obs(obs):\n",
    "    cv2.imwrite('temp.jpg', obs)\n",
    "    img = cv2.imread('temp.jpg')\n",
    "    downsized_obs = cv2.resize(img, dsize=(72, 36), interpolation=cv2.INTER_CUBIC)\n",
    "    return downsized_obs\n",
    "\n",
    "def flatten_act(action):\n",
    "    return np.concatenate(list(action.values())).ravel()\n",
    "\n",
    "# reconstructs actions for simulator\n",
    "def reconstruct_act(action):\n",
    "    reconst_action = {}\n",
    "    reconst_action['pose0_position'] = np.array(action[0:2])\n",
    "    reconst_action['pose0_rotation'] = np.array(action[2:6])\n",
    "    reconst_action['pose1_position'] = np.array(action[6:8])\n",
    "    reconst_action['pose1_rotation'] = np.array(action[8:12])\n",
    "    reconst_action = {\n",
    "        k: np.clip(v, env.action_space[k].low, env.action_space[k].high)\n",
    "        for k, v in reconst_action.items()\n",
    "    }\n",
    "    return reconst_action\n",
    "\n",
    "def remove_obj(segm, obs, remove_obj):\n",
    "    #if remove_obj == 'arm':\n",
    "    #    segm = (segm == 2).astype(int)\n",
    "    if remove_obj == 'base':\n",
    "        segm = (segm == 5).astype(int)\n",
    "    elif remove_obj == 'dragged':\n",
    "        segm = (segm == 6).astype(int)\n",
    "    elif remove_obj == 'distractor':\n",
    "        segm = (segm == 7).astype(int)\n",
    "    segm = np.atleast_3d(segm)\n",
    "    \n",
    "    for height in range(128):\n",
    "        for width in range(256):\n",
    "            if segm[height, width] == 1:\n",
    "                obs[height, width] = 47\n",
    "    return obs\n",
    "\n",
    "def compare_actions(actions, gt_action):\n",
    "    comparisons = []\n",
    "    for action in actions:\n",
    "        comparisons.append(np.linalg.norm(gt_action - action[[0,1,6,7]],ord=2))\n",
    "    return comparisons\n",
    "\n",
    "# generates random trajs within specified constraints\n",
    "def gen_trajs(env, num_trajs, task_name, task_kwargs):\n",
    "    trajs = []\n",
    "    task = env.task\n",
    "    oracle_fn = task.oracle(env)\n",
    "    for traj in tqdm(range(num_trajs)):\n",
    "        traj = {'obs': [],'acts': [], 'meta': []}\n",
    "        obs = env.reset()\n",
    "        traj['meta'] = env.meta_info\n",
    "        for step in range(1):\n",
    "            top_obs = obs['rgb']['top'] # extracts top down view only\n",
    "            top_obs = np.rollaxis(top_obs,0,3)\n",
    "            traj['obs'].append(downsize_obs(top_obs.copy()))\n",
    "            # prompt, prompt_assets = env.prompt, env.prompt_assets\n",
    "            oracle_action = oracle_fn.act(obs)\n",
    "            # clip action\n",
    "            oracle_action = {\n",
    "                k: np.clip(v, env.action_space[k].low, env.action_space[k].high)\n",
    "                for k, v in oracle_action.items()\n",
    "            }\n",
    "            traj['acts'].append(flatten_act(oracle_action))\n",
    "            obs, _, done, info = env.step(action=oracle_action, skip_oracle=False)\n",
    "        traj['obs'] = np.array(traj['obs'])\n",
    "        traj['acts'] = np.array(traj['acts'])\n",
    "        traj['meta'] = np.array(traj['meta'])\n",
    "        trajs.append(traj)\n",
    "    return trajs"
   ]
  },
  {
   "cell_type": "code",
   "execution_count": 6,
   "id": "fccfc2f6-2659-4640-b9d6-0a7546455ef9",
   "metadata": {
    "scrolled": true,
    "tags": []
   },
   "outputs": [
    {
     "name": "stderr",
     "output_type": "stream",
     "text": [
      "100%|█████████████████████████████████████████████████████████████████| 1/1 [00:01<00:00,  1.03s/it]\n"
     ]
    }
   ],
   "source": [
    "task_name = 'visual_manipulation'\n",
    "#task_kwargs=PARTITION_TO_SPECS[\"train\"][task_name]\n",
    "task_kwargs = { 'num_dragged_obj': 1,\n",
    "     'possible_dragged_obj': ['pentagon'],\n",
    "     'possible_dragged_obj_texture': ['red'],\n",
    "     'dragged_obj_area': [2],\n",
    "     'num_base_obj': 1,\n",
    "     'possible_base_obj': ['square'],\n",
    "     'possible_base_obj_texture': ['blue'],\n",
    "     'base_obj_area': [3],\n",
    "     'num_distractors_obj': 0,\n",
    "     'possible_distractor_obj_texture': ['yellow'],\n",
    "     'possible_distractor_obj': ['flower'],\n",
    "     'distractor_obj_area' : 3}\n",
    "#record_gui=True, display_debug_window=True, hide_arm_rgb=False\n",
    "env = vima_bench.make(task_name=task_name,task_kwargs=task_kwargs,hide_arm_rgb=False)\n",
    "\n",
    "num_trajs = 1\n",
    "trajs = gen_trajs(env=env, num_trajs=num_trajs, task_name=task_name, task_kwargs=task_kwargs)\n",
    "pickle.dump(trajs, open('trajs.pkl', 'wb'))\n",
    "env.close()\n",
    "#obs = env.reset()\n",
    "#top_obs = obs['rgb']['top']\n",
    "#top_obs = np.rollaxis(top_obs,0,3)\n",
    "#plt.imshow(top_obs)\n",
    "#env.close()"
   ]
  },
  {
   "cell_type": "code",
   "execution_count": 7,
   "id": "95620041-1b7d-47f7-a043-eed9b05e824b",
   "metadata": {},
   "outputs": [
    {
     "data": {
      "text/plain": [
       "<matplotlib.image.AxesImage at 0x7f829cb80c10>"
      ]
     },
     "execution_count": 7,
     "metadata": {},
     "output_type": "execute_result"
    },
    {
     "data": {
      "image/png": "[encoded data removed]",
      "text/plain": [
       "<Figure size 640x480 with 1 Axes>"
      ]
     },
     "metadata": {},
     "output_type": "display_data"
    }
   ],
   "source": [
    "#trajs = pickle.load(open('trajs.pkl','rb'))\n",
    "plt.imshow(trajs[0]['obs'][0])"
   ]
  },
  {
   "cell_type": "code",
   "execution_count": 10,
   "id": "082b88c2-3372-4b12-b64e-3b7d4cf43f4d",
   "metadata": {
    "scrolled": true,
    "tags": []
   },
   "outputs": [
    {
     "data": {
      "text/plain": [
       "CNNPolicy(\n",
       "  (conv): Sequential(\n",
       "    (0): Conv2d(3, 32, kernel_size=(8, 8), stride=(4, 4))\n",
       "    (1): ReLU(inplace=True)\n",
       "    (2): BatchNorm2d(32, eps=1e-05, momentum=0.1, affine=True, track_running_stats=True)\n",
       "    (3): Conv2d(32, 64, kernel_size=(4, 4), stride=(2, 2))\n",
       "    (4): ReLU(inplace=True)\n",
       "    (5): BatchNorm2d(64, eps=1e-05, momentum=0.1, affine=True, track_running_stats=True)\n",
       "    (6): Conv2d(64, 32, kernel_size=(3, 3), stride=(1, 1))\n",
       "    (7): LeakyReLU(negative_slope=0.01, inplace=True)\n",
       "    (8): Flatten()\n",
       "    (9): BatchNorm1d(160, eps=1e-05, momentum=0.1, affine=True, track_running_stats=True)\n",
       "    (10): Linear(in_features=160, out_features=100, bias=True)\n",
       "  )\n",
       "  (process): Sequential(\n",
       "    (0): Linear(in_features=100, out_features=1000, bias=True)\n",
       "    (1): ReLU(inplace=True)\n",
       "    (2): Linear(in_features=1000, out_features=2592, bias=True)\n",
       "    (3): Sigmoid()\n",
       "  )\n",
       "  (cnntrunk): Sequential(\n",
       "    (0): Conv2d(3, 32, kernel_size=(8, 8), stride=(4, 4))\n",
       "    (1): ReLU(inplace=True)\n",
       "    (2): BatchNorm2d(32, eps=1e-05, momentum=0.1, affine=True, track_running_stats=True)\n",
       "    (3): Conv2d(32, 64, kernel_size=(4, 4), stride=(2, 2))\n",
       "    (4): ReLU(inplace=True)\n",
       "    (5): BatchNorm2d(64, eps=1e-05, momentum=0.1, affine=True, track_running_stats=True)\n",
       "    (6): Conv2d(64, 32, kernel_size=(3, 3), stride=(1, 1))\n",
       "    (7): LeakyReLU(negative_slope=0.01, inplace=True)\n",
       "    (8): BatchNorm2d(32, eps=1e-05, momentum=0.1, affine=True, track_running_stats=True)\n",
       "    (9): Flatten()\n",
       "    (10): Linear(in_features=160, out_features=12, bias=True)\n",
       "  )\n",
       "  (mlptrunk): Sequential(\n",
       "    (0): Linear(in_features=200, out_features=100, bias=True)\n",
       "    (1): ReLU(inplace=True)\n",
       "    (2): Linear(in_features=100, out_features=12, bias=True)\n",
       "  )\n",
       ")"
      ]
     },
     "execution_count": 10,
     "metadata": {},
     "output_type": "execute_result"
    }
   ],
   "source": [
    "num_tasks = len(trajs)\n",
    "\n",
    "#goal_size = 8 #384\n",
    "act_size = trajs[0]['acts'][0].shape[0]\n",
    "hidden_size = 100\n",
    "mask = False\n",
    "\n",
    "policy = CNNPolicy(act_size, hidden_size, mask=mask)\n",
    "device = torch.device('cuda' if torch.cuda.is_available() else 'cpu')\n",
    "policy.to(device)"
   ]
  },
  {
   "cell_type": "code",
   "execution_count": 11,
   "id": "6dde3ee5-ce6a-41eb-ac85-860781776e8f",
   "metadata": {
    "scrolled": true,
    "tags": []
   },
   "outputs": [
    {
     "name": "stdout",
     "output_type": "stream",
     "text": [
      "Finished Training\n"
     ]
    },
    {
     "data": {
      "text/plain": [
       "[<matplotlib.lines.Line2D at 0x7f829cd7abe0>]"
      ]
     },
     "execution_count": 11,
     "metadata": {},
     "output_type": "execute_result"
    },
    {
     "data": {
      "image/png": "[encoded data removed]",
      "text/plain": [
       "<Figure size 640x480 with 1 Axes>"
      ]
     },
     "metadata": {},
     "output_type": "display_data"
    }
   ],
   "source": [
    "num_epochs = 500\n",
    "batch_size = 10\n",
    "\n",
    "criterion = nn.MSELoss()\n",
    "optimizer = optim.Adam(list(policy.parameters()))\n",
    "\n",
    "losses = []\n",
    "\n",
    "idxs = np.array(range(len(trajs)))\n",
    "\n",
    "num_batches = len(idxs) // batch_size\n",
    "# Train the model with regular SGD\n",
    "for epoch in range(num_epochs):  # loop over the dataset multiple times\n",
    "    np.random.shuffle(idxs)\n",
    "    running_loss = 0.0\n",
    "    for i in range(num_batches):\n",
    "        optimizer.zero_grad()\n",
    "\n",
    "        t_idx = np.random.randint(len(trajs), size=(batch_size,)) # Indices of traj\n",
    "        t_idx_pertraj = np.random.randint(1, size=(batch_size,)) # Indices of timesteps in traj\n",
    "        t_states = np.concatenate([trajs[c_idx]['obs'][t_idx][None] for (c_idx, t_idx) in zip(t_idx, t_idx_pertraj)])\n",
    "        t_actions = np.concatenate([trajs[c_idx]['acts'][t_idx][None] for (c_idx, t_idx) in zip(t_idx, t_idx_pertraj)])\n",
    "   \n",
    "        t_states = torch.Tensor(t_states).float().to(device)\n",
    "        t_actions = torch.Tensor(t_actions).float().to(device)\n",
    "        \n",
    "        if mask:\n",
    "            a_preds, masked_state_preds, img_mask_preds = policy(t_states)\n",
    "            mask_loss = .00001*masked_state_preds.sum()\n",
    "        else:\n",
    "            a_preds = policy(t_states)[0]\n",
    "        \n",
    "        action_loss = torch.mean(torch.linalg.norm(a_preds - t_actions, dim=-1)) # supervised learning loss\n",
    "        if mask:\n",
    "            loss = action_loss + mask_loss\n",
    "        else:\n",
    "            loss = action_loss\n",
    "            mask_loss = 0\n",
    "        \n",
    "        loss.backward()\n",
    "        #print(policy.conv[0].weight.grad)\n",
    "        optimizer.step()\n",
    "\n",
    "        # print statistics\n",
    "        running_loss += loss.item()\n",
    "        if i % 100 == 0:\n",
    "            print('[%d, %5d] loss: %.8f' %\n",
    "                  (epoch + 1, i + 1, running_loss))\n",
    "            print('[%d, %5d] mask loss: %.8f' %\n",
    "                  (epoch + 1, i + 1, mask_loss))\n",
    "            print('[%d, %5d] action loss: %.8f' %\n",
    "                  (epoch + 1, i + 1, action_loss))\n",
    "            losses.append(running_loss)\n",
    "            running_loss = 0.0\n",
    "        losses.append(loss.item())\n",
    "\n",
    "torch.save(policy, 'policy.pt')\n",
    "print('Finished Training')\n",
    "plt.plot(losses)"
   ]
  },
  {
   "cell_type": "code",
   "execution_count": 17,
   "id": "ee1bd52a-f3e5-41d7-b327-cb9bf03e20f2",
   "metadata": {},
   "outputs": [],
   "source": [
    "task_name = \"visual_manipulation\"\n",
    "task_kwargs = { 'num_dragged_obj': 1,\n",
    "     'possible_dragged_obj': ['pentagon'],\n",
    "     'possible_dragged_obj_texture': ['red'],\n",
    "     'dragged_obj_area': [2],\n",
    "     'num_base_obj': 1,\n",
    "     'possible_base_obj': ['pallet'],#['bowl','square','flower','pentagon','letter E'],\n",
    "     'possible_base_obj_texture': ['blue'],#['yellow','blue','green','tiger','dark green swirl'],\n",
    "     'base_obj_area': [3],\n",
    "     'num_distractors_obj': 0,\n",
    "     'possible_distractor_obj_texture': ['tiger'],\n",
    "     'possible_distractor_obj': ['pan'],\n",
    "     'distractor_obj_area' : [3]}\n",
    "record_cfg = {'save_video': True,\n",
    "     'save_video_path': './rollouts/',\n",
    "     'view': 'front',\n",
    "     'fps': 20,\n",
    "     'video_height': 640,\n",
    "     'video_width': 720}\n",
    "# record_gui=True, display_debug_window=True, hide_arm_rgb=False\n",
    "env = vima_bench.make(task_name=task_name,task_kwargs=task_kwargs,hide_arm_rgb=False,record_cfg=record_cfg)"
   ]
  },
  {
   "cell_type": "code",
   "execution_count": 18,
   "id": "10160fc2-8e9d-4d65-8517-3421c5fae5d7",
   "metadata": {
    "scrolled": true,
    "tags": []
   },
   "outputs": [
    {
     "name": "stderr",
     "output_type": "stream",
     "text": [
      "100%|█████████████████████████████████████████████████████████████████| 1/1 [00:11<00:00, 11.71s/it]"
     ]
    },
    {
     "name": "stdout",
     "output_type": "stream",
     "text": [
      "Warning: movej exceeded 5 second timeout. Skipping.\n",
      "1.0\n"
     ]
    },
    {
     "name": "stderr",
     "output_type": "stream",
     "text": [
      "\n"
     ]
    },
    {
     "data": {
      "image/png": "[encoded data removed]",
      "text/plain": [
       "<Figure size 432x288 with 1 Axes>"
      ]
     },
     "metadata": {
      "needs_background": "light"
     },
     "output_type": "display_data"
    }
   ],
   "source": [
    "policy = torch.load('policy.pt')\n",
    "\n",
    "obj_to_remove = None#['base']\n",
    "mask = False\n",
    "policy.eval()\n",
    "num_test_trajs = 1\n",
    "video = True\n",
    "\n",
    "plt.xlim(-0.5, 0.5)\n",
    "plt.ylim(0.3, 0.7)\n",
    "\n",
    "successes = []\n",
    "\n",
    "rollouts = {'actions': [], 'action_starts': [],'action_ends': [], 'true_starts': [], 'true_ends': []}\n",
    "for i in tqdm(range(num_test_trajs)):\n",
    "    os.makedirs('rollouts/' + str(i), exist_ok=True)\n",
    "    obs = env.reset()\n",
    "    rollouts['true_starts'].append(env.task.dragged_pose[0])\n",
    "    rollouts['true_ends'].append(env.task.base_pose[0])\n",
    "    if video:\n",
    "        video_name = str(i)\n",
    "        env.start_rec(video_name)\n",
    "    for step in range(1):\n",
    "        segm = obs['segm']['top']\n",
    "        top_obs = obs['rgb']['top']\n",
    "        top_obs = np.rollaxis(top_obs,0,3)\n",
    "        if obj_to_remove is not None:\n",
    "            obj_removed = random.choice(obj_to_remove)\n",
    "            segm = obs['segm']['top']\n",
    "            top_obs = remove_obj(segm, top_obs, obj_removed)\n",
    "        first_obs = top_obs.copy()\n",
    "        im = Image.fromarray(top_obs)\n",
    "        im.save('rollouts/'+str(i)+\"/\"+str(step)+'.jpg')\n",
    "        top_obs = downsize_obs(top_obs)\n",
    "        state = torch.Tensor(top_obs[None]).to(device)\n",
    "        if mask:\n",
    "            action, masked_state, img_mask = policy(state)\n",
    "            action = action.cpu().detach().numpy()[0]\n",
    "            masked_state = masked_state.cpu().detach().numpy()[0].transpose((1,2,0))\n",
    "            masked_state = Image.fromarray((masked_state * 255).astype(np.uint8))\n",
    "            masked_state.save('rollouts/'+str(i)+\"/\"+str(step)+'-mask.jpg')\n",
    "            img_mask = img_mask.cpu().detach().numpy()[0].transpose((1,2,0))\n",
    "        else:\n",
    "            action = policy(state).cpu().detach().numpy()[0]\n",
    "        rollouts['actions'].append(action)\n",
    "        rollouts['action_starts'].append(action[0:2].copy())\n",
    "        rollouts['action_ends'].append(action[6:8].copy())\n",
    "        obs, _, done, info = env.step(action=reconstruct_act(action), skip_oracle=False)\n",
    "        if done:\n",
    "            successes.append(1)\n",
    "        else:\n",
    "            successes.append(0)\n",
    "    if video:\n",
    "        env.end_rec()\n",
    "    top_obs = obs['rgb']['top']\n",
    "    top_obs = np.rollaxis(top_obs,0,3)\n",
    "    if obj_to_remove is not None:\n",
    "        segm = obs['segm']['top']\n",
    "        top_obs = remove_obj(segm, top_obs, obj_removed)\n",
    "    im = Image.fromarray(top_obs)\n",
    "    im.save('rollouts/'+str(i)+\"/\"+str(step+1)+'.jpg')\n",
    "\n",
    "env.close()\n",
    "plt.scatter(np.array(rollouts['true_starts'])[:, 1], np.array(rollouts['true_starts'])[:, 0], marker='o', color='g', label='gt starts')\n",
    "plt.scatter(np.array(rollouts['true_ends'])[:, 1], np.array(rollouts['true_ends'])[:, 0], marker='x', color='g', label='gt ends')\n",
    "plt.scatter(np.array(rollouts['action_starts'])[:, 1], np.array(rollouts['action_starts'])[:, 0], marker='o', color='r', label='rollout starts')\n",
    "plt.scatter(np.array(rollouts['action_ends'])[:, 1], np.array(rollouts['action_ends'])[:, 0], marker='x', color='r', label='rollout ends')\n",
    "plt.gca().invert_yaxis()\n",
    "plt.legend()\n",
    "print(sum(successes)/len(successes))"
   ]
  },
  {
   "cell_type": "code",
   "execution_count": null,
   "id": "09ae59c2-c87f-4e2f-a91b-e99144f02302",
   "metadata": {},
   "outputs": [],
   "source": [
    "plt.imshow(first_obs)"
   ]
  },
  {
   "cell_type": "code",
   "execution_count": null,
   "id": "85d61716-d37b-4296-b93d-39bd26c97ba8",
   "metadata": {},
   "outputs": [],
   "source": [
    "plt.imshow(top_obs)"
   ]
  },
  {
   "cell_type": "code",
   "execution_count": null,
   "id": "b336d9f0-b371-4a58-ac38-f782648bdab8",
   "metadata": {},
   "outputs": [],
   "source": [
    "gt_action = np.array([ 0.348276  , -0.28591025,  0.5994489 ,  0.13083145])\n",
    "comps = compare_actions(rollouts['actions'], gt_action)\n",
    "print(comps)\n",
    "print(sum(comps)/len(comps))"
   ]
  },
  {
   "cell_type": "code",
   "execution_count": null,
   "id": "9b0a4693-f77c-43bc-ae56-351eed20ed17",
   "metadata": {},
   "outputs": [],
   "source": [
    "def batch_predict(obs):\n",
    "    policy.eval()\n",
    "    policy.to(device)\n",
    "    \n",
    "    obs = torch.Tensor(obs).to(device)\n",
    "    \n",
    "    with torch.no_grad():\n",
    "        logits = policy(obs).detach().cpu().numpy()\n",
    "    \n",
    "    dists = np.linalg.norm(logits - gt_action.reshape(1, 12), axis=1).reshape(-1, 1)\n",
    "    # d2 = -dists.copy()\n",
    "    # val = np.concatenate((dists, d2), axis=1)\n",
    "    return dists"
   ]
  },
  {
   "cell_type": "code",
   "execution_count": null,
   "id": "a88ee30a-693f-4f5e-b401-f29be7516d68",
   "metadata": {},
   "outputs": [],
   "source": [
    "from lime import lime_image\n",
    "explainer = lime_image.LimeImageExplainer()\n",
    "explanation = explainer.explain_instance(downsize_obs(first_obs), \n",
    "                                         batch_predict, # prediction function\n",
    "                                         top_labels=5, \n",
    "                                         hide_color=0, \n",
    "                                         num_samples=1000) # number of images that will be sent to classification function\n",
    "print(explanation)\n",
    "print(explanation.intercept)\n",
    "print(explanation.local_exp)"
   ]
  },
  {
   "cell_type": "code",
   "execution_count": null,
   "id": "fbd11541-f5c9-41c2-86d6-805fd168236d",
   "metadata": {},
   "outputs": [],
   "source": [
    "print(explanation)\n",
    "print(explanation.intercept)\n",
    "print(explanation.local_exp)"
   ]
  },
  {
   "cell_type": "code",
   "execution_count": null,
   "id": "0fc5305e-719b-422d-b71b-9f2e9560d4a4",
   "metadata": {},
   "outputs": [],
   "source": [
    "plt.imshow(explanation.segments)\n",
    "print(explanation.segments)"
   ]
  },
  {
   "cell_type": "code",
   "execution_count": null,
   "id": "5a31fd8a-b816-40ff-a932-6c656b7118bf",
   "metadata": {
    "scrolled": true,
    "tags": []
   },
   "outputs": [],
   "source": [
    "def grad_cam(policy, state):\n",
    "    policy.eval()\n",
    "    policy.to(device)\n",
    "        \n",
    "    state = state/255.0 # process image + switch channels\n",
    "    state = state.permute(0,3,1,2)\n",
    "    conv_maps = policy.cnntrunk[2](policy.cnntrunk[1](policy.cnntrunk[0](state)))\n",
    "    conv_maps = policy.cnntrunk[5](policy.cnntrunk[4](policy.cnntrunk[3](conv_maps)))\n",
    "    conv_maps = policy.cnntrunk[9](policy.cnntrunk[8](policy.cnntrunk[7](policy.cnntrunk[6](conv_maps)))).detach().numpy()[0]\n",
    "    weights = policy.cnntrunk[10].weight.data.cpu().numpy()[0]\n",
    "    \n",
    "    avg_conv_map = np.uint8(conv_maps * weights *255)\n",
    "    avg_conv_map[avg_conv_map < 0] = 0\n",
    "    avg_conv_map = np.array(Image.fromarray(avg_conv_map).resize((256,128)))\n",
    "    \n",
    "    return avg_conv_map"
   ]
  },
  {
   "cell_type": "code",
   "execution_count": null,
   "id": "abdb35a5-495e-47ea-9de8-d572bcdd9c05",
   "metadata": {
    "scrolled": true,
    "tags": []
   },
   "outputs": [],
   "source": [
    "output = grad_cam(policy,state)\n",
    "plt.imshow(output)"
   ]
  },
  {
   "cell_type": "code",
   "execution_count": null,
   "id": "69df446a-ee2c-4a01-ad09-41bf30548540",
   "metadata": {
    "scrolled": true,
    "tags": []
   },
   "outputs": [],
   "source": [
    "heatmap = cv2.applyColorMap(cv2.resize(output,(256, 128)), cv2.COLORMAP_JET)\n",
    "plt.imshow(heatmap*.5)"
   ]
  },
  {
   "cell_type": "code",
   "execution_count": null,
   "id": "a5618114-d080-41a1-a026-c2b2cefa5dbd",
   "metadata": {},
   "outputs": [],
   "source": []
  }
 ],
 "metadata": {
  "kernelspec": {
   "display_name": "Python 3 (ipykernel)",
   "language": "python",
   "name": "python3"
  },
  "language_info": {
   "codemirror_mode": {
    "name": "ipython",
    "version": 3
   },
   "file_extension": ".py",
   "mimetype": "text/x-python",
   "name": "python",
   "nbconvert_exporter": "python",
   "pygments_lexer": "ipython3",
   "version": "3.9.16"
  }
 },
 "nbformat": 4,
 "nbformat_minor": 5
}
