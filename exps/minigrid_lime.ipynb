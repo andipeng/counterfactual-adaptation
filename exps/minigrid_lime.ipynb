{
 "cells": [
  {
   "cell_type": "code",
   "execution_count": 1,
   "id": "521fba6e-fc73-4e49-9b8e-3b9a0661b2f3",
   "metadata": {},
   "outputs": [],
   "source": [
    "from __future__ import print_function, division, unicode_literals\n",
    "%load_ext autoreload\n",
    "%autoreload 2\n",
    "import math\n",
    "import time\n",
    "import os\n",
    "import copy\n",
    "import unicodedata\n",
    "import string\n",
    "import re\n",
    "import random\n",
    "import io\n",
    "from io import open\n",
    "\n",
    "import torch\n",
    "import torch.optim as optim\n",
    "import torch.nn as nn\n",
    "import torch.nn.functional as F\n",
    "from torch.utils.data import Dataset, DataLoader\n",
    "from torch import distributions as pyd\n",
    "device = torch.device(\"cuda\" if torch.cuda.is_available() else \"cpu\")\n",
    "\n",
    "import numpy as np\n",
    "import matplotlib\n",
    "import matplotlib.pyplot as plt\n",
    "from matplotlib.backends.backend_agg import FigureCanvasAgg as FigureCanvas\n",
    "from matplotlib import cm\n",
    "%matplotlib inline\n",
    "import seaborn as sns\n",
    "from PIL import Image\n",
    "import cv2\n",
    "import minigrid\n",
    "\n",
    "# Ignore warnings\n",
    "import warnings\n",
    "warnings.filterwarnings(\"ignore\")\n",
    "plt.ion()   # interactive mode - o\n",
    "\n",
    "from sentence_transformers import SentenceTransformer\n",
    "lang_model = SentenceTransformer('all-MiniLM-L6-v2', device=device)"
   ]
  },
  {
   "cell_type": "code",
   "execution_count": 2,
   "id": "c7b174cb-e5fc-485b-ad16-a163d2e1efb8",
   "metadata": {},
   "outputs": [],
   "source": [
    "# Custom weight init for Conv2D and Linear layers\n",
    "def weight_init(m):\n",
    "    if isinstance(m, nn.Linear):\n",
    "        nn.init.orthogonal_(m.weight.data)\n",
    "        if hasattr(m.bias, \"data\"):\n",
    "            m.bias.data.fill_(0.0)\n",
    "                \n",
    "# helper mlp init function\n",
    "def mlp(input_dim, output_dim, hidden_dim, hidden_depth, output_mod=None):\n",
    "    if hidden_depth == 0:\n",
    "        mods = [nn.Linear(input_dim, output_dim)]\n",
    "    else:\n",
    "        mods = [nn.Linear(input_dim, hidden_dim), nn.ReLU(inplace=True)]\n",
    "        for i in range(hidden_depth - 1):\n",
    "            mods += [nn.Linear(hidden_dim, hidden_dim), nn.ReLU(inplace=True)]\n",
    "        mods.append(nn.Linear(hidden_dim, output_dim))\n",
    "    if output_mod is not None:\n",
    "        mods.append(output_mod)\n",
    "    trunk = nn.Sequential(*mods)\n",
    "    return trunk\n",
    "\n",
    "class Flatten(nn.Module):\n",
    "    def forward(self, x):\n",
    "        return x.view(x.size(0), -1)\n",
    "\n",
    "# MLP policy\n",
    "class MLPPolicy(nn.Module):\n",
    "    def __init__(\n",
    "        self, obs_dim, action_dim, hidden_dim, hidden_depth, output_mod=None\n",
    "    ):\n",
    "        super().__init__()\n",
    "        self.trunk = mlp(input_dim, output_dim, hidden_dim, hidden_depth, output_mod)\n",
    "        self.outputs = dict()\n",
    "        self.apply(weight_init)\n",
    "\n",
    "    def forward(self, x):\n",
    "        return self.trunk(x)\n",
    "\n",
    "# MLP policy\n",
    "class CNNPolicy(nn.Module):\n",
    "    def __init__(\n",
    "        self, goal_dim, action_dim, hidden_size, mask=False, output_mod=None):\n",
    "        super().__init__()\n",
    "        self.mask = mask\n",
    "        self.goal = mlp(goal_dim, hidden_size, hidden_dim=0, hidden_depth=0, output_mod=None) # => hidden_size\n",
    "        self.conv = nn.Sequential(\n",
    "            nn.Conv2d(3,32,kernel_size=8,stride=4), nn.ReLU(inplace=True), nn.BatchNorm2d(32), #(b_size,3,36,36)=>(b_size,32,8,8)\n",
    "            nn.Conv2d(32,64,kernel_size=4,stride=2), nn.ReLU(inplace=True), nn.BatchNorm2d(64), #(b_size,32,8,8)=>(b_size,64,3,3)\n",
    "            nn.Conv2d(64,32,kernel_size=3,stride=1), nn.LeakyReLU(inplace=True), Flatten(), nn.BatchNorm1d(32), #(b_size,64,3,3)=>(b_size,32,1,1)=>(b_size,32*1*1)\n",
    "            nn.Linear(32*1*1, hidden_size) #(b_size,32*1*1)=>(b_size,hidden_size)\n",
    "        )\n",
    "        self.process = mlp(hidden_size*2, 1*36*36, hidden_dim=1000, hidden_depth=1, output_mod=nn.Sigmoid()) #(b_size,hidden_size*2)=>(b_size,32*1*1)\n",
    "        # UNet deconv mask --------------------------------------------------------------------------------------------------\n",
    "        #self.deconv = nn.Sequential(\n",
    "        #    nn.ConvTranspose2d(32, 64, kernel_size=3, stride=1), nn.LeakyReLU(inplace=True), nn.BatchNorm2d(64), #(b_size,32*1*1)=>(b_size,64,3,3)\n",
    "        #    nn.ConvTranspose2d(64, 32, kernel_size=4, stride=2), nn.LeakyReLU(inplace=True), nn.BatchNorm2d(32), #(b_size,64,3,3)=>(b_size,32,8,8)\n",
    "        #    nn.ConvTranspose2d(32, 1, kernel_size=8, stride=4), nn.Sigmoid(), #(b_size,32,8,8)=>(b_size,3,36,36)\n",
    "        #)\n",
    "        self.cnntrunk = nn.Sequential(\n",
    "            nn.Conv2d(3, 32, kernel_size=8, stride=4), nn.ReLU(inplace=True), nn.BatchNorm2d(32), #(b_size,3,36,36)=>(b_size,32,8,8)\n",
    "            nn.Conv2d(32, 64, kernel_size=4, stride=2), nn.ReLU(inplace=True), nn.BatchNorm2d(64), #(b_size,32,8,8)=>(b_size,64,3,3)\n",
    "            nn.Conv2d(64, 32, kernel_size=3, stride=1), nn.LeakyReLU(inplace=True), nn.BatchNorm2d(32), Flatten(), #(b_size,64,3,3)=>(b_size,32,1,1)=>(b_size,32*1*1)\n",
    "            nn.Linear(32*1*1, action_dim)#, nn.LeakyReLU(inplace=True), nn.BatchNorm1d(32), #(b_size,32*1*1)=>(b_size,hidden_size)\n",
    "            #nn.Linear(32, action_dim) #(b_size,hidden_size)=>(b_size,action_dim)\n",
    "        )\n",
    "        self.mlptrunk = mlp(hidden_size*2, action_dim, hidden_dim=100, hidden_depth=1) #(b_size,hidden_size*2)=>(b_size,action_dim)\n",
    "        self.apply(weight_init)\n",
    "\n",
    "    def forward(self, goal, state):\n",
    "        state = state/255.0 # process image + switch channels\n",
    "        state = state.permute(0,3,1,2)\n",
    "        state_embed = self.conv(state)\n",
    "        goal_embed = self.goal(goal) # process goal\n",
    "        goal_state = torch.cat((goal_embed,state_embed),dim=1) # process goal + state\n",
    "        \n",
    "        if self.mask:\n",
    "            img_mask = self.process(goal_state)\n",
    "            img_mask = img_mask.reshape(-1,1,36,36)\n",
    "            #img_mask = img_mask.reshape(-1,32,1,1)\n",
    "            #img_mask = self.deconv(img_mask) # deconv for mask\n",
    "            #--------------------- test with gt mask\n",
    "            #img_mask = gt_mask.reshape((-1, 36, 36, 1)) # reshape to 1 channel\n",
    "            #img_mask = np.repeat(img_mask, 3, axis=3) # duplicate across 3 channels\n",
    "            #img_mask = img_mask.permute(0,3,1,2) # process channel switch\n",
    "            #---------------------\n",
    "            masked_state = state * img_mask # apply mask to full state\n",
    "            pred = self.cnntrunk(masked_state)\n",
    "            return [pred, masked_state, img_mask]\n",
    "        else:\n",
    "            pred = self.mlptrunk(goal_state)\n",
    "            return [pred]"
   ]
  },
  {
   "cell_type": "code",
   "execution_count": 3,
   "id": "e72af63f-f81b-4846-96bb-2313b4980d4e",
   "metadata": {},
   "outputs": [],
   "source": [
    "def show_step(obs):\n",
    "    plt.figure()\n",
    "    plt.imshow(obs)\n",
    "\n",
    "def test_actions(env, obs, actions):\n",
    "    sim_obs = env.reset()[0]\n",
    "    #show_step(obs[0])\n",
    "    for i in range(len(obs)):\n",
    "        show_step(sim_obs)\n",
    "        show_step(obs[i])\n",
    "        sim_obs = env.step(actions[i])[0]\n",
    "        print(actions[i])\n",
    "\n",
    "def downsize_obs(obs):\n",
    "    cv2.imwrite('temp.jpg', obs)\n",
    "    img = cv2.imread('temp.jpg')\n",
    "    downsized_obs = cv2.resize(img, dsize=(36, 36), interpolation=cv2.INTER_CUBIC)\n",
    "    return downsized_obs"
   ]
  },
  {
   "cell_type": "code",
   "execution_count": 4,
   "id": "7c4dda5f-b81a-4a2a-ac4f-a22871dec2aa",
   "metadata": {},
   "outputs": [
    {
     "name": "stdout",
     "output_type": "stream",
     "text": [
      "['go to the yellow key green door blue goal']\n",
      "[ 3 10  4  5  7  2 10  5  3]\n"
     ]
    },
    {
     "data": {
      "text/plain": [
       "<matplotlib.image.AxesImage at 0x1792429a0>"
      ]
     },
     "execution_count": 4,
     "metadata": {},
     "output_type": "execute_result"
    },
    {
     "data": {
      "image/png": "[encoded data removed]",
      "text/plain": [
       "<Figure size 432x288 with 1 Axes>"
      ]
     },
     "metadata": {
      "needs_background": "light"
     },
     "output_type": "display_data"
    },
    {
     "data": {
      "image/png": "[encoded data removed]",
      "text/plain": [
       "<Figure size 288x288 with 1 Axes>"
      ]
     },
     "metadata": {
      "needs_background": "light"
     },
     "output_type": "display_data"
    }
   ],
   "source": [
    "TILE_SIZE = 28\n",
    "import gym\n",
    "from minigrid.wrappers import RGBImgObsWrapper, ImgObsWrapper\n",
    "env = gym.make('MiniGrid-DoorKeySpecial')\n",
    "env = RGBImgObsWrapper(env, tile_size=TILE_SIZE) # Get pixel observations\n",
    "env = ImgObsWrapper(env) # Get rid of the 'mission' field\n",
    "obs = env.reset(keydist=True, doordist=True, goaldist=True,\n",
    "                key_locations=[1,11], key_colors=[4,5], keydist_locations=[1,11],\n",
    "                door_locations=[1,11], door_colors=[2,3], doordist_locations=[1,11],\n",
    "                goal_locations=[1,11], goal_colors=[3,4], goaldist_locations=[1,11])[0] # This now produces an RGB tensor only\n",
    "print(env.goal_lang)\n",
    "print(env.goal)\n",
    "plt.imshow(obs)\n",
    "plt.figure(figsize=(4,4))\n",
    "plt.imshow(downsize_obs(obs))"
   ]
  },
  {
   "cell_type": "code",
   "execution_count": 5,
   "id": "a7850df5-cd16-4c59-b4ff-bffafe2bbe22",
   "metadata": {},
   "outputs": [],
   "source": [
    "# left 0, right 1, forward 2, pickup 3, drop 4, toggle 5, done 6\n",
    "def gen_trajs(env, num_trajs=1, keydist=True, doordist=True, goaldist=True,\n",
    "              key_locations=[1,11], key_colors=[1,5], keydist_locations=[1,11],\n",
    "              door_locations=[1,11], door_colors=[1,5], doordist_locations=[1,11],\n",
    "              goal_locations=[1,11], goal_colors=[1,5], goaldist_locations=[1,11]):\n",
    "    trajs = []\n",
    "    for traj in range(num_trajs):\n",
    "        #env.reset(agent_pos=agent_pos, obj_pos=obj_pos, obj_colors=obj_colors, obj_shapes=obj_shapes, scalar=scalar)\n",
    "        obs = env.reset(keydist=keydist, doordist=doordist, goaldist=goaldist,\n",
    "                        key_locations=key_locations, key_colors=key_colors, keydist_locations=keydist_locations,\n",
    "                        door_locations=door_locations, door_colors=door_colors, doordist_locations=doordist_locations,\n",
    "                        goal_locations=goal_locations, goal_colors=goal_colors, goaldist_locations=goaldist_locations)[0] # This now produces an RGB tensor only\n",
    "        # rolls out a trajectory towards the goal\n",
    "        traj = {'obs': [],'acts': [],'goal': []}\n",
    "        full_img_obs = []\n",
    "        \n",
    "        ################ Pick up key\n",
    "        # turn right\n",
    "        acts = [1]\n",
    "        # navigate to goal key\n",
    "        for i in range(env.goal[1]-1):\n",
    "            acts.append(2)\n",
    "        # turn left, forward, and pick up\n",
    "        acts.extend([0,2,3,2,2])\n",
    "        \n",
    "        ############### Go to door and unlock\n",
    "        door = env.goal[4] - env.goal[1]\n",
    "        # turn to door\n",
    "        if door > 0:\n",
    "            acts.append(1)\n",
    "        elif door < 0:\n",
    "            acts.append(0)\n",
    "        # go in door dir\n",
    "        for i in range(abs(door)):\n",
    "            acts.append(2)\n",
    "        # turn to door\n",
    "        if door > 0:\n",
    "            acts.append(0)\n",
    "        elif door < 0:\n",
    "            acts.append(1)\n",
    "        # go to door and unlock\n",
    "        acts.extend([2,5,2,2])\n",
    "        \n",
    "        ############### Go to goal\n",
    "        goal = env.goal[7] - env.goal[4]\n",
    "        # turn to goal\n",
    "        if goal > 0:\n",
    "            acts.append(1)\n",
    "        elif goal < 0:\n",
    "            acts.append(0)\n",
    "        # go in goal dir\n",
    "        for i in range(abs(goal)):\n",
    "            acts.append(2)\n",
    "        # turn to goal\n",
    "        if goal > 0:\n",
    "            acts.append(0)\n",
    "        elif goal < 0:\n",
    "            acts.append(1)\n",
    "        # go to goal\n",
    "        acts.extend([2,2,2,2,2])\n",
    "        \n",
    "        for act in acts:\n",
    "            full_img_obs.append(obs.copy())\n",
    "            traj['acts'].append(act)\n",
    "            no = env.step(act)[0]\n",
    "            obs = no.copy()\n",
    "            traj['goal'].append(env.goal)\n",
    "        \n",
    "        for obs in full_img_obs:\n",
    "            traj['obs'].append(downsize_obs(obs.copy()))\n",
    "\n",
    "        traj['obs'] = np.array(traj['obs'])\n",
    "        traj['acts'] = np.array(traj['acts'])\n",
    "        traj['goal'] = np.array(traj['goal'])\n",
    "        trajs.append(traj)\n",
    "    return trajs"
   ]
  },
  {
   "cell_type": "code",
   "execution_count": 6,
   "id": "9a90ff3a-657e-4c40-8970-e65f9adfe391",
   "metadata": {},
   "outputs": [],
   "source": [
    "# generates random trajs within specified constraints\n",
    "env = gym.make('MiniGrid-DoorKeySpecial')\n",
    "env = RGBImgObsWrapper(env, tile_size=TILE_SIZE) # Get pixel observations\n",
    "env = ImgObsWrapper(env) # Get rid of the 'mission' field\n",
    "\n",
    "keydist=False\n",
    "key_locations=[1,7]\n",
    "key_colors=[2,3]\n",
    "keydist_locations=[9,10]\n",
    "\n",
    "doordist=False\n",
    "door_locations=[6,7]\n",
    "door_colors=[3,4]\n",
    "doordist_locations=[9,10]\n",
    "\n",
    "goaldist=False\n",
    "goal_locations=[6,7]\n",
    "goal_colors=[4,5]\n",
    "goaldist_locations=[1,2]\n",
    "\n",
    "train_trajs = gen_trajs(env, num_trajs=20, keydist=keydist, doordist=doordist, goaldist=goaldist,\n",
    "                        key_locations=key_locations, key_colors=key_colors, keydist_locations=keydist_locations,\n",
    "                        door_locations=door_locations, door_colors=door_colors, doordist_locations=doordist_locations,\n",
    "                        goal_locations=goal_locations, goal_colors=goal_colors, goaldist_locations=goaldist_locations)"
   ]
  },
  {
   "cell_type": "code",
   "execution_count": 7,
   "id": "52441c3d-b3db-4352-84af-19769e99cad0",
   "metadata": {
    "scrolled": true,
    "tags": []
   },
   "outputs": [
    {
     "name": "stdout",
     "output_type": "stream",
     "text": [
      "[1 2 0 2 3 2 2 1 2 2 2 2 0 2 5 2 2 2 2 2 2 2]\n"
     ]
    },
    {
     "data": {
      "image/png": "[encoded data removed]",
      "text/plain": [
       "<Figure size 432x288 with 1 Axes>"
      ]
     },
     "metadata": {
      "needs_background": "light"
     },
     "output_type": "display_data"
    },
    {
     "data": {
      "image/png": "[encoded data removed]",
      "text/plain": [
       "<Figure size 432x288 with 1 Axes>"
      ]
     },
     "metadata": {
      "needs_background": "light"
     },
     "output_type": "display_data"
    },
    {
     "data": {
      "image/png": "[encoded data removed]",
      "text/plain": [
       "<Figure size 432x288 with 1 Axes>"
      ]
     },
     "metadata": {
      "needs_background": "light"
     },
     "output_type": "display_data"
    },
    {
     "data": {
      "image/png": "[encoded data removed]",
      "text/plain": [
       "<Figure size 432x288 with 1 Axes>"
      ]
     },
     "metadata": {
      "needs_background": "light"
     },
     "output_type": "display_data"
    },
    {
     "data": {
      "image/png": "[encoded data removed]",
      "text/plain": [
       "<Figure size 432x288 with 1 Axes>"
      ]
     },
     "metadata": {
      "needs_background": "light"
     },
     "output_type": "display_data"
    },
    {
     "data": {
      "image/png": "[encoded data removed]",
      "text/plain": [
       "<Figure size 432x288 with 1 Axes>"
      ]
     },
     "metadata": {
      "needs_background": "light"
     },
     "output_type": "display_data"
    },
    {
     "data": {
      "image/png": "[encoded data removed]",
      "text/plain": [
       "<Figure size 432x288 with 1 Axes>"
      ]
     },
     "metadata": {
      "needs_background": "light"
     },
     "output_type": "display_data"
    },
    {
     "data": {
      "image/png": "[encoded data removed]",
      "text/plain": [
       "<Figure size 432x288 with 1 Axes>"
      ]
     },
     "metadata": {
      "needs_background": "light"
     },
     "output_type": "display_data"
    },
    {
     "data": {
      "image/png": "[encoded data removed]",
      "text/plain": [
       "<Figure size 432x288 with 1 Axes>"
      ]
     },
     "metadata": {
      "needs_background": "light"
     },
     "output_type": "display_data"
    },
    {
     "data": {
      "image/png": "[encoded data removed]",
      "text/plain": [
       "<Figure size 432x288 with 1 Axes>"
      ]
     },
     "metadata": {
      "needs_background": "light"
     },
     "output_type": "display_data"
    },
    {
     "data": {
      "image/png": "[encoded data removed]",
      "text/plain": [
       "<Figure size 432x288 with 1 Axes>"
      ]
     },
     "metadata": {
      "needs_background": "light"
     },
     "output_type": "display_data"
    },
    {
     "data": {
      "image/png": "[encoded data removed]",
      "text/plain": [
       "<Figure size 432x288 with 1 Axes>"
      ]
     },
     "metadata": {
      "needs_background": "light"
     },
     "output_type": "display_data"
    },
    {
     "data": {
      "image/png": "[encoded data removed]",
      "text/plain": [
       "<Figure size 432x288 with 1 Axes>"
      ]
     },
     "metadata": {
      "needs_background": "light"
     },
     "output_type": "display_data"
    },
    {
     "data": {
      "image/png": "[encoded data removed]",
      "text/plain": [
       "<Figure size 432x288 with 1 Axes>"
      ]
     },
     "metadata": {
      "needs_background": "light"
     },
     "output_type": "display_data"
    },
    {
     "data": {
      "image/png": "[encoded data removed]",
      "text/plain": [
       "<Figure size 432x288 with 1 Axes>"
      ]
     },
     "metadata": {
      "needs_background": "light"
     },
     "output_type": "display_data"
    },
    {
     "data": {
      "image/png": "[encoded data removed]",
      "text/plain": [
       "<Figure size 432x288 with 1 Axes>"
      ]
     },
     "metadata": {
      "needs_background": "light"
     },
     "output_type": "display_data"
    },
    {
     "data": {
      "image/png": "[encoded data removed]",
      "text/plain": [
       "<Figure size 432x288 with 1 Axes>"
      ]
     },
     "metadata": {
      "needs_background": "light"
     },
     "output_type": "display_data"
    },
    {
     "data": {
      "image/png": "[encoded data removed]",
      "text/plain": [
       "<Figure size 432x288 with 1 Axes>"
      ]
     },
     "metadata": {
      "needs_background": "light"
     },
     "output_type": "display_data"
    },
    {
     "data": {
      "image/png": "[encoded data removed]",
      "text/plain": [
       "<Figure size 432x288 with 1 Axes>"
      ]
     },
     "metadata": {
      "needs_background": "light"
     },
     "output_type": "display_data"
    },
    {
     "data": {
      "image/png": "[encoded data removed]",
      "text/plain": [
       "<Figure size 432x288 with 1 Axes>"
      ]
     },
     "metadata": {
      "needs_background": "light"
     },
     "output_type": "display_data"
    },
    {
     "data": {
      "image/png": "[encoded data removed]",
      "text/plain": [
       "<Figure size 432x288 with 1 Axes>"
      ]
     },
     "metadata": {
      "needs_background": "light"
     },
     "output_type": "display_data"
    },
    {
     "data": {
      "image/png": "[encoded data removed]",
      "text/plain": [
       "<Figure size 432x288 with 1 Axes>"
      ]
     },
     "metadata": {
      "needs_background": "light"
     },
     "output_type": "display_data"
    }
   ],
   "source": [
    "temp = 0\n",
    "print(train_trajs[temp]['acts'])\n",
    "for i in range(len(train_trajs[temp]['obs'])):\n",
    "    plt.figure()\n",
    "    plt.imshow(train_trajs[temp]['obs'][i])"
   ]
  },
  {
   "cell_type": "code",
   "execution_count": 8,
   "id": "8c5ac040-2bc6-4ed8-ad2b-458c88eb4f41",
   "metadata": {
    "scrolled": true,
    "tags": []
   },
   "outputs": [
    {
     "data": {
      "text/plain": [
       "CNNPolicy(\n",
       "  (goal): Sequential(\n",
       "    (0): Linear(in_features=9, out_features=100, bias=True)\n",
       "  )\n",
       "  (conv): Sequential(\n",
       "    (0): Conv2d(3, 32, kernel_size=(8, 8), stride=(4, 4))\n",
       "    (1): ReLU(inplace=True)\n",
       "    (2): BatchNorm2d(32, eps=1e-05, momentum=0.1, affine=True, track_running_stats=True)\n",
       "    (3): Conv2d(32, 64, kernel_size=(4, 4), stride=(2, 2))\n",
       "    (4): ReLU(inplace=True)\n",
       "    (5): BatchNorm2d(64, eps=1e-05, momentum=0.1, affine=True, track_running_stats=True)\n",
       "    (6): Conv2d(64, 32, kernel_size=(3, 3), stride=(1, 1))\n",
       "    (7): LeakyReLU(negative_slope=0.01, inplace=True)\n",
       "    (8): Flatten()\n",
       "    (9): BatchNorm1d(32, eps=1e-05, momentum=0.1, affine=True, track_running_stats=True)\n",
       "    (10): Linear(in_features=32, out_features=100, bias=True)\n",
       "  )\n",
       "  (process): Sequential(\n",
       "    (0): Linear(in_features=200, out_features=1000, bias=True)\n",
       "    (1): ReLU(inplace=True)\n",
       "    (2): Linear(in_features=1000, out_features=1296, bias=True)\n",
       "    (3): Sigmoid()\n",
       "  )\n",
       "  (cnntrunk): Sequential(\n",
       "    (0): Conv2d(3, 32, kernel_size=(8, 8), stride=(4, 4))\n",
       "    (1): ReLU(inplace=True)\n",
       "    (2): BatchNorm2d(32, eps=1e-05, momentum=0.1, affine=True, track_running_stats=True)\n",
       "    (3): Conv2d(32, 64, kernel_size=(4, 4), stride=(2, 2))\n",
       "    (4): ReLU(inplace=True)\n",
       "    (5): BatchNorm2d(64, eps=1e-05, momentum=0.1, affine=True, track_running_stats=True)\n",
       "    (6): Conv2d(64, 32, kernel_size=(3, 3), stride=(1, 1))\n",
       "    (7): LeakyReLU(negative_slope=0.01, inplace=True)\n",
       "    (8): BatchNorm2d(32, eps=1e-05, momentum=0.1, affine=True, track_running_stats=True)\n",
       "    (9): Flatten()\n",
       "    (10): Linear(in_features=32, out_features=7, bias=True)\n",
       "  )\n",
       "  (mlptrunk): Sequential(\n",
       "    (0): Linear(in_features=200, out_features=100, bias=True)\n",
       "    (1): ReLU(inplace=True)\n",
       "    (2): Linear(in_features=100, out_features=7, bias=True)\n",
       "  )\n",
       ")"
      ]
     },
     "execution_count": 8,
     "metadata": {},
     "output_type": "execute_result"
    }
   ],
   "source": [
    "num_tasks = len(train_trajs)\n",
    "\n",
    "goal_size = 9 #384\n",
    "act_size = 7\n",
    "hidden_size = 100\n",
    "mask = False\n",
    "\n",
    "policy = CNNPolicy(goal_size, act_size, hidden_size, mask=mask)\n",
    "device = torch.device('cuda' if torch.cuda.is_available() else 'cpu')\n",
    "policy.to(device)"
   ]
  },
  {
   "cell_type": "code",
   "execution_count": 9,
   "id": "58e89a90-3628-4118-a1e9-9c1063117a6b",
   "metadata": {
    "scrolled": true,
    "tags": []
   },
   "outputs": [
    {
     "name": "stdout",
     "output_type": "stream",
     "text": [
      "[1,     1] loss: 1.55031884\n",
      "[1,     1] action loss: 1.55031884\n",
      "[2,     1] loss: 1.14893222\n",
      "[2,     1] action loss: 1.14893222\n",
      "[3,     1] loss: 0.92166299\n",
      "[3,     1] action loss: 0.92166299\n",
      "[4,     1] loss: 0.82158715\n",
      "[4,     1] action loss: 0.82158715\n",
      "[5,     1] loss: 0.74948996\n",
      "[5,     1] action loss: 0.74948996\n",
      "[6,     1] loss: 0.70425040\n",
      "[6,     1] action loss: 0.70425040\n",
      "[7,     1] loss: 0.63982916\n",
      "[7,     1] action loss: 0.63982916\n",
      "[8,     1] loss: 0.57606810\n",
      "[8,     1] action loss: 0.57606810\n",
      "[9,     1] loss: 0.52911961\n",
      "[9,     1] action loss: 0.52911961\n",
      "[10,     1] loss: 0.48734814\n",
      "[10,     1] action loss: 0.48734814\n",
      "[11,     1] loss: 0.43471426\n",
      "[11,     1] action loss: 0.43471426\n",
      "[12,     1] loss: 0.40575615\n",
      "[12,     1] action loss: 0.40575615\n",
      "[13,     1] loss: 0.37320924\n",
      "[13,     1] action loss: 0.37320924\n",
      "[14,     1] loss: 0.33576319\n",
      "[14,     1] action loss: 0.33576319\n",
      "[15,     1] loss: 0.30000016\n",
      "[15,     1] action loss: 0.30000016\n",
      "[16,     1] loss: 0.26845604\n",
      "[16,     1] action loss: 0.26845604\n",
      "[17,     1] loss: 0.24004497\n",
      "[17,     1] action loss: 0.24004497\n",
      "[18,     1] loss: 0.21622509\n",
      "[18,     1] action loss: 0.21622509\n",
      "[19,     1] loss: 0.20413716\n",
      "[19,     1] action loss: 0.20413716\n",
      "[20,     1] loss: 0.18037407\n",
      "[20,     1] action loss: 0.18037407\n",
      "[21,     1] loss: 0.16063610\n",
      "[21,     1] action loss: 0.16063610\n",
      "[22,     1] loss: 0.14169306\n",
      "[22,     1] action loss: 0.14169306\n",
      "[23,     1] loss: 0.13365979\n",
      "[23,     1] action loss: 0.13365979\n",
      "[24,     1] loss: 0.11932210\n",
      "[24,     1] action loss: 0.11932210\n",
      "[25,     1] loss: 0.11534312\n",
      "[25,     1] action loss: 0.11534312\n",
      "[26,     1] loss: 0.10979325\n",
      "[26,     1] action loss: 0.10979325\n",
      "[27,     1] loss: 0.10244750\n",
      "[27,     1] action loss: 0.10244750\n",
      "[28,     1] loss: 0.09666455\n",
      "[28,     1] action loss: 0.09666455\n",
      "[29,     1] loss: 0.09257372\n",
      "[29,     1] action loss: 0.09257372\n",
      "[30,     1] loss: 0.08759611\n",
      "[30,     1] action loss: 0.08759611\n",
      "[31,     1] loss: 0.08602121\n",
      "[31,     1] action loss: 0.08602121\n",
      "[32,     1] loss: 0.08515528\n",
      "[32,     1] action loss: 0.08515528\n",
      "[33,     1] loss: 0.08125816\n",
      "[33,     1] action loss: 0.08125816\n",
      "[34,     1] loss: 0.08441424\n",
      "[34,     1] action loss: 0.08441424\n",
      "[35,     1] loss: 0.08039724\n",
      "[35,     1] action loss: 0.08039724\n",
      "[36,     1] loss: 0.08239508\n",
      "[36,     1] action loss: 0.08239508\n",
      "[37,     1] loss: 0.08432022\n",
      "[37,     1] action loss: 0.08432022\n",
      "[38,     1] loss: 0.08268469\n",
      "[38,     1] action loss: 0.08268469\n",
      "[39,     1] loss: 0.07890012\n",
      "[39,     1] action loss: 0.07890012\n",
      "[40,     1] loss: 0.08126280\n",
      "[40,     1] action loss: 0.08126280\n",
      "[41,     1] loss: 0.07693198\n",
      "[41,     1] action loss: 0.07693198\n",
      "[42,     1] loss: 0.07951406\n",
      "[42,     1] action loss: 0.07951406\n",
      "[43,     1] loss: 0.07681984\n",
      "[43,     1] action loss: 0.07681984\n",
      "[44,     1] loss: 0.07514635\n",
      "[44,     1] action loss: 0.07514635\n",
      "[45,     1] loss: 0.07529455\n",
      "[45,     1] action loss: 0.07529455\n",
      "[46,     1] loss: 0.07503840\n",
      "[46,     1] action loss: 0.07503840\n",
      "[47,     1] loss: 0.07549895\n",
      "[47,     1] action loss: 0.07549895\n",
      "[48,     1] loss: 0.07504159\n",
      "[48,     1] action loss: 0.07504159\n",
      "[49,     1] loss: 0.07523325\n",
      "[49,     1] action loss: 0.07523325\n",
      "[50,     1] loss: 0.07669415\n",
      "[50,     1] action loss: 0.07669415\n",
      "[51,     1] loss: 0.07766125\n",
      "[51,     1] action loss: 0.07766125\n",
      "[52,     1] loss: 0.07495752\n",
      "[52,     1] action loss: 0.07495752\n",
      "[53,     1] loss: 0.07447459\n",
      "[53,     1] action loss: 0.07447459\n",
      "[54,     1] loss: 0.07543687\n",
      "[54,     1] action loss: 0.07543687\n",
      "[55,     1] loss: 0.07421085\n",
      "[55,     1] action loss: 0.07421085\n",
      "[56,     1] loss: 0.07530446\n",
      "[56,     1] action loss: 0.07530446\n",
      "[57,     1] loss: 0.07417668\n",
      "[57,     1] action loss: 0.07417668\n",
      "[58,     1] loss: 0.07490588\n",
      "[58,     1] action loss: 0.07490588\n",
      "[59,     1] loss: 0.07430663\n",
      "[59,     1] action loss: 0.07430663\n",
      "[60,     1] loss: 0.07442012\n",
      "[60,     1] action loss: 0.07442012\n",
      "[61,     1] loss: 0.07430062\n",
      "[61,     1] action loss: 0.07430062\n",
      "[62,     1] loss: 0.07419755\n",
      "[62,     1] action loss: 0.07419755\n",
      "[63,     1] loss: 0.07432315\n",
      "[63,     1] action loss: 0.07432315\n",
      "[64,     1] loss: 0.07401619\n",
      "[64,     1] action loss: 0.07401619\n",
      "[65,     1] loss: 0.07420510\n",
      "[65,     1] action loss: 0.07420510\n",
      "[66,     1] loss: 0.07391882\n",
      "[66,     1] action loss: 0.07391882\n",
      "[67,     1] loss: 0.07412876\n",
      "[67,     1] action loss: 0.07412876\n",
      "[68,     1] loss: 0.07381134\n",
      "[68,     1] action loss: 0.07381134\n",
      "[69,     1] loss: 0.07397210\n",
      "[69,     1] action loss: 0.07397210\n",
      "[70,     1] loss: 0.07371294\n",
      "[70,     1] action loss: 0.07371294\n",
      "[71,     1] loss: 0.07386436\n",
      "[71,     1] action loss: 0.07386436\n",
      "[72,     1] loss: 0.07362913\n",
      "[72,     1] action loss: 0.07362913\n",
      "[73,     1] loss: 0.07372842\n",
      "[73,     1] action loss: 0.07372842\n",
      "[74,     1] loss: 0.07357774\n",
      "[74,     1] action loss: 0.07357774\n",
      "[75,     1] loss: 0.07360682\n",
      "[75,     1] action loss: 0.07360682\n",
      "[76,     1] loss: 0.07358985\n",
      "[76,     1] action loss: 0.07358985\n",
      "[77,     1] loss: 0.07349118\n",
      "[77,     1] action loss: 0.07349118\n",
      "[78,     1] loss: 0.07358874\n",
      "[78,     1] action loss: 0.07358874\n",
      "[79,     1] loss: 0.07348484\n",
      "[79,     1] action loss: 0.07348484\n",
      "[80,     1] loss: 0.07345982\n",
      "[80,     1] action loss: 0.07345982\n",
      "[81,     1] loss: 0.07352962\n",
      "[81,     1] action loss: 0.07352962\n",
      "[82,     1] loss: 0.07345648\n",
      "[82,     1] action loss: 0.07345648\n",
      "[83,     1] loss: 0.07339548\n",
      "[83,     1] action loss: 0.07339548\n",
      "[84,     1] loss: 0.07348699\n",
      "[84,     1] action loss: 0.07348699\n",
      "[85,     1] loss: 0.07345449\n",
      "[85,     1] action loss: 0.07345449\n",
      "[86,     1] loss: 0.07335679\n",
      "[86,     1] action loss: 0.07335679\n",
      "[87,     1] loss: 0.07340625\n",
      "[87,     1] action loss: 0.07340625\n",
      "[88,     1] loss: 0.07345561\n",
      "[88,     1] action loss: 0.07345561\n",
      "[89,     1] loss: 0.07333636\n",
      "[89,     1] action loss: 0.07333636\n",
      "[90,     1] loss: 0.07333003\n",
      "[90,     1] action loss: 0.07333003\n",
      "[91,     1] loss: 0.07341315\n",
      "[91,     1] action loss: 0.07341315\n",
      "[92,     1] loss: 0.07333983\n",
      "[92,     1] action loss: 0.07333983\n",
      "[93,     1] loss: 0.07329189\n",
      "[93,     1] action loss: 0.07329189\n",
      "[94,     1] loss: 0.07334032\n",
      "[94,     1] action loss: 0.07334032\n",
      "[95,     1] loss: 0.07326924\n",
      "[95,     1] action loss: 0.07326924\n",
      "[96,     1] loss: 0.07329455\n",
      "[96,     1] action loss: 0.07329455\n",
      "[97,     1] loss: 0.07328905\n",
      "[97,     1] action loss: 0.07328905\n",
      "[98,     1] loss: 0.07324378\n",
      "[98,     1] action loss: 0.07324378\n",
      "[99,     1] loss: 0.07328410\n",
      "[99,     1] action loss: 0.07328410\n",
      "[100,     1] loss: 0.07323877\n",
      "[100,     1] action loss: 0.07323877\n",
      "Finished Training\n"
     ]
    },
    {
     "data": {
      "text/plain": [
       "[<matplotlib.lines.Line2D at 0x285064640>]"
      ]
     },
     "execution_count": 9,
     "metadata": {},
     "output_type": "execute_result"
    },
    {
     "data": {
      "image/png": "[encoded data removed]",
      "text/plain": [
       "<Figure size 432x288 with 1 Axes>"
      ]
     },
     "metadata": {
      "needs_background": "light"
     },
     "output_type": "display_data"
    }
   ],
   "source": [
    "num_epochs = 100\n",
    "batch_size = 20\n",
    "\n",
    "criterion = nn.CrossEntropyLoss()\n",
    "optimizer = optim.Adam(list(policy.parameters()))\n",
    "\n",
    "losses = []\n",
    "\n",
    "idxs = np.array(range(len(train_trajs)))\n",
    "\n",
    "num_batches = len(idxs) // batch_size\n",
    "# Train the model with regular SGD\n",
    "for epoch in range(num_epochs):  # loop over the dataset multiple times\n",
    "    np.random.shuffle(idxs)\n",
    "    running_loss = 0.0\n",
    "    for i in range(num_batches):\n",
    "        optimizer.zero_grad()\n",
    "        \n",
    "        obs = np.concatenate([traj['obs'] for traj in train_trajs])\n",
    "        acts = np.concatenate([traj['acts'] for traj in train_trajs])\n",
    "        goals = np.concatenate([traj['goal'] for traj in train_trajs])\n",
    "\n",
    "        #t_idx = np.random.randint(len(train_trajs), size=(batch_size,)) # Indices of traj\n",
    "        #t_idx_pertraj = np.random.randint(traj_horizon, size=(batch_size,)) # Indices of timesteps in traj\n",
    "        #t_states = np.concatenate([train_trajs[c_idx]['obs'][t_idx][None] for (c_idx, t_idx) in zip(t_idx, t_idx_pertraj)])\n",
    "        #t_goals = np.concatenate([train_trajs[c_idx]['goal'][t_idx][None] for (c_idx, t_idx) in zip(t_idx, t_idx_pertraj)])\n",
    "        #t_actions = np.concatenate([train_trajs[c_idx]['acts'][t_idx][None] for (c_idx, t_idx) in zip(t_idx, t_idx_pertraj)])\n",
    "   \n",
    "        t_states = torch.Tensor(obs).float().to(device)\n",
    "        t_goals = torch.Tensor(goals).float().to(device)\n",
    "        t_actions = torch.Tensor(acts).long().to(device)\n",
    "        \n",
    "        if mask:\n",
    "            a_preds, masked_state_preds, img_mask_preds = policy(t_goals, t_states)\n",
    "            mask_loss = 5e-8*masked_state_preds.sum()\n",
    "            #mask_loss = 0\n",
    "        else:\n",
    "            a_preds = policy(t_goals, t_states)[0]\n",
    "        \n",
    "        action_loss = criterion(a_preds, t_actions) # supervised learning loss\n",
    "        if mask:\n",
    "            loss = action_loss + mask_loss\n",
    "        else:\n",
    "            loss = action_loss\n",
    "        \n",
    "        loss.backward()\n",
    "        optimizer.step()\n",
    "\n",
    "        # print statistics\n",
    "        running_loss += loss.item()\n",
    "        if i % 100 == 0:\n",
    "            print('[%d, %5d] loss: %.8f' %\n",
    "                  (epoch + 1, i + 1, running_loss))\n",
    "            #print('[%d, %5d] mask loss: %.8f' %\n",
    "            #      (epoch + 1, i + 1, mask_loss))\n",
    "            print('[%d, %5d] action loss: %.8f' %\n",
    "                  (epoch + 1, i + 1, action_loss))\n",
    "            losses.append(running_loss)\n",
    "            running_loss = 0.0\n",
    "        losses.append(loss.item())\n",
    "\n",
    "print('Finished Training')\n",
    "plt.plot(losses)"
   ]
  },
  {
   "cell_type": "code",
   "execution_count": 10,
   "id": "f962381c-a100-4a89-9657-3370c23f2e2c",
   "metadata": {
    "scrolled": true,
    "tags": []
   },
   "outputs": [
    {
     "name": "stdout",
     "output_type": "stream",
     "text": [
      "['go to the green key blue door yellow goal']\n",
      "tensor([[ 3.,  6.,  2.,  5.,  6.,  3., 10.,  6.,  4.]])\n"
     ]
    },
    {
     "ename": "RuntimeError",
     "evalue": "running_mean should contain 46208 elements not 32",
     "output_type": "error",
     "traceback": [
      "\u001b[0;31m---------------------------------------------------------------------------\u001b[0m",
      "\u001b[0;31mRuntimeError\u001b[0m                              Traceback (most recent call last)",
      "Input \u001b[0;32mIn [10]\u001b[0m, in \u001b[0;36m<cell line: 26>\u001b[0;34m()\u001b[0m\n\u001b[1;32m     48\u001b[0m     show_step(masked_state)\n\u001b[1;32m     49\u001b[0m \u001b[38;5;28;01melse\u001b[39;00m:\n\u001b[0;32m---> 50\u001b[0m     action \u001b[38;5;241m=\u001b[39m \u001b[43mpolicy\u001b[49m\u001b[43m(\u001b[49m\u001b[43mgoal\u001b[49m\u001b[43m,\u001b[49m\u001b[43mstate\u001b[49m\u001b[43m)\u001b[49m[\u001b[38;5;241m0\u001b[39m]\n\u001b[1;32m     51\u001b[0m     action \u001b[38;5;241m=\u001b[39m torch\u001b[38;5;241m.\u001b[39margmax(action\u001b[38;5;241m.\u001b[39mcpu()\u001b[38;5;241m.\u001b[39mdetach())\u001b[38;5;241m.\u001b[39mnumpy()\n\u001b[1;32m     52\u001b[0m traj[\u001b[38;5;124m'\u001b[39m\u001b[38;5;124mobs\u001b[39m\u001b[38;5;124m'\u001b[39m]\u001b[38;5;241m.\u001b[39mappend(obs\u001b[38;5;241m.\u001b[39mcopy())\n",
      "File \u001b[0;32m~/miniforge3/envs/aligning-construals/lib/python3.9/site-packages/torch/nn/modules/module.py:1102\u001b[0m, in \u001b[0;36mModule._call_impl\u001b[0;34m(self, *input, **kwargs)\u001b[0m\n\u001b[1;32m   1098\u001b[0m \u001b[38;5;66;03m# If we don't have any hooks, we want to skip the rest of the logic in\u001b[39;00m\n\u001b[1;32m   1099\u001b[0m \u001b[38;5;66;03m# this function, and just call forward.\u001b[39;00m\n\u001b[1;32m   1100\u001b[0m \u001b[38;5;28;01mif\u001b[39;00m \u001b[38;5;129;01mnot\u001b[39;00m (\u001b[38;5;28mself\u001b[39m\u001b[38;5;241m.\u001b[39m_backward_hooks \u001b[38;5;129;01mor\u001b[39;00m \u001b[38;5;28mself\u001b[39m\u001b[38;5;241m.\u001b[39m_forward_hooks \u001b[38;5;129;01mor\u001b[39;00m \u001b[38;5;28mself\u001b[39m\u001b[38;5;241m.\u001b[39m_forward_pre_hooks \u001b[38;5;129;01mor\u001b[39;00m _global_backward_hooks\n\u001b[1;32m   1101\u001b[0m         \u001b[38;5;129;01mor\u001b[39;00m _global_forward_hooks \u001b[38;5;129;01mor\u001b[39;00m _global_forward_pre_hooks):\n\u001b[0;32m-> 1102\u001b[0m     \u001b[38;5;28;01mreturn\u001b[39;00m \u001b[43mforward_call\u001b[49m\u001b[43m(\u001b[49m\u001b[38;5;241;43m*\u001b[39;49m\u001b[38;5;28;43minput\u001b[39;49m\u001b[43m,\u001b[49m\u001b[43m \u001b[49m\u001b[38;5;241;43m*\u001b[39;49m\u001b[38;5;241;43m*\u001b[39;49m\u001b[43mkwargs\u001b[49m\u001b[43m)\u001b[49m\n\u001b[1;32m   1103\u001b[0m \u001b[38;5;66;03m# Do not call functions when jit is used\u001b[39;00m\n\u001b[1;32m   1104\u001b[0m full_backward_hooks, non_full_backward_hooks \u001b[38;5;241m=\u001b[39m [], []\n",
      "Input \u001b[0;32mIn [2]\u001b[0m, in \u001b[0;36mCNNPolicy.forward\u001b[0;34m(self, goal, state)\u001b[0m\n\u001b[1;32m     70\u001b[0m state \u001b[38;5;241m=\u001b[39m state\u001b[38;5;241m/\u001b[39m\u001b[38;5;241m255.0\u001b[39m \u001b[38;5;66;03m# process image + switch channels\u001b[39;00m\n\u001b[1;32m     71\u001b[0m state \u001b[38;5;241m=\u001b[39m state\u001b[38;5;241m.\u001b[39mpermute(\u001b[38;5;241m0\u001b[39m,\u001b[38;5;241m3\u001b[39m,\u001b[38;5;241m1\u001b[39m,\u001b[38;5;241m2\u001b[39m)\n\u001b[0;32m---> 72\u001b[0m state_embed \u001b[38;5;241m=\u001b[39m \u001b[38;5;28;43mself\u001b[39;49m\u001b[38;5;241;43m.\u001b[39;49m\u001b[43mconv\u001b[49m\u001b[43m(\u001b[49m\u001b[43mstate\u001b[49m\u001b[43m)\u001b[49m\n\u001b[1;32m     73\u001b[0m goal_embed \u001b[38;5;241m=\u001b[39m \u001b[38;5;28mself\u001b[39m\u001b[38;5;241m.\u001b[39mgoal(goal) \u001b[38;5;66;03m# process goal\u001b[39;00m\n\u001b[1;32m     74\u001b[0m goal_state \u001b[38;5;241m=\u001b[39m torch\u001b[38;5;241m.\u001b[39mcat((goal_embed,state_embed),dim\u001b[38;5;241m=\u001b[39m\u001b[38;5;241m1\u001b[39m) \u001b[38;5;66;03m# process goal + state\u001b[39;00m\n",
      "File \u001b[0;32m~/miniforge3/envs/aligning-construals/lib/python3.9/site-packages/torch/nn/modules/module.py:1102\u001b[0m, in \u001b[0;36mModule._call_impl\u001b[0;34m(self, *input, **kwargs)\u001b[0m\n\u001b[1;32m   1098\u001b[0m \u001b[38;5;66;03m# If we don't have any hooks, we want to skip the rest of the logic in\u001b[39;00m\n\u001b[1;32m   1099\u001b[0m \u001b[38;5;66;03m# this function, and just call forward.\u001b[39;00m\n\u001b[1;32m   1100\u001b[0m \u001b[38;5;28;01mif\u001b[39;00m \u001b[38;5;129;01mnot\u001b[39;00m (\u001b[38;5;28mself\u001b[39m\u001b[38;5;241m.\u001b[39m_backward_hooks \u001b[38;5;129;01mor\u001b[39;00m \u001b[38;5;28mself\u001b[39m\u001b[38;5;241m.\u001b[39m_forward_hooks \u001b[38;5;129;01mor\u001b[39;00m \u001b[38;5;28mself\u001b[39m\u001b[38;5;241m.\u001b[39m_forward_pre_hooks \u001b[38;5;129;01mor\u001b[39;00m _global_backward_hooks\n\u001b[1;32m   1101\u001b[0m         \u001b[38;5;129;01mor\u001b[39;00m _global_forward_hooks \u001b[38;5;129;01mor\u001b[39;00m _global_forward_pre_hooks):\n\u001b[0;32m-> 1102\u001b[0m     \u001b[38;5;28;01mreturn\u001b[39;00m \u001b[43mforward_call\u001b[49m\u001b[43m(\u001b[49m\u001b[38;5;241;43m*\u001b[39;49m\u001b[38;5;28;43minput\u001b[39;49m\u001b[43m,\u001b[49m\u001b[43m \u001b[49m\u001b[38;5;241;43m*\u001b[39;49m\u001b[38;5;241;43m*\u001b[39;49m\u001b[43mkwargs\u001b[49m\u001b[43m)\u001b[49m\n\u001b[1;32m   1103\u001b[0m \u001b[38;5;66;03m# Do not call functions when jit is used\u001b[39;00m\n\u001b[1;32m   1104\u001b[0m full_backward_hooks, non_full_backward_hooks \u001b[38;5;241m=\u001b[39m [], []\n",
      "File \u001b[0;32m~/miniforge3/envs/aligning-construals/lib/python3.9/site-packages/torch/nn/modules/container.py:141\u001b[0m, in \u001b[0;36mSequential.forward\u001b[0;34m(self, input)\u001b[0m\n\u001b[1;32m    139\u001b[0m \u001b[38;5;28;01mdef\u001b[39;00m \u001b[38;5;21mforward\u001b[39m(\u001b[38;5;28mself\u001b[39m, \u001b[38;5;28minput\u001b[39m):\n\u001b[1;32m    140\u001b[0m     \u001b[38;5;28;01mfor\u001b[39;00m module \u001b[38;5;129;01min\u001b[39;00m \u001b[38;5;28mself\u001b[39m:\n\u001b[0;32m--> 141\u001b[0m         \u001b[38;5;28minput\u001b[39m \u001b[38;5;241m=\u001b[39m \u001b[43mmodule\u001b[49m\u001b[43m(\u001b[49m\u001b[38;5;28;43minput\u001b[39;49m\u001b[43m)\u001b[49m\n\u001b[1;32m    142\u001b[0m     \u001b[38;5;28;01mreturn\u001b[39;00m \u001b[38;5;28minput\u001b[39m\n",
      "File \u001b[0;32m~/miniforge3/envs/aligning-construals/lib/python3.9/site-packages/torch/nn/modules/module.py:1102\u001b[0m, in \u001b[0;36mModule._call_impl\u001b[0;34m(self, *input, **kwargs)\u001b[0m\n\u001b[1;32m   1098\u001b[0m \u001b[38;5;66;03m# If we don't have any hooks, we want to skip the rest of the logic in\u001b[39;00m\n\u001b[1;32m   1099\u001b[0m \u001b[38;5;66;03m# this function, and just call forward.\u001b[39;00m\n\u001b[1;32m   1100\u001b[0m \u001b[38;5;28;01mif\u001b[39;00m \u001b[38;5;129;01mnot\u001b[39;00m (\u001b[38;5;28mself\u001b[39m\u001b[38;5;241m.\u001b[39m_backward_hooks \u001b[38;5;129;01mor\u001b[39;00m \u001b[38;5;28mself\u001b[39m\u001b[38;5;241m.\u001b[39m_forward_hooks \u001b[38;5;129;01mor\u001b[39;00m \u001b[38;5;28mself\u001b[39m\u001b[38;5;241m.\u001b[39m_forward_pre_hooks \u001b[38;5;129;01mor\u001b[39;00m _global_backward_hooks\n\u001b[1;32m   1101\u001b[0m         \u001b[38;5;129;01mor\u001b[39;00m _global_forward_hooks \u001b[38;5;129;01mor\u001b[39;00m _global_forward_pre_hooks):\n\u001b[0;32m-> 1102\u001b[0m     \u001b[38;5;28;01mreturn\u001b[39;00m \u001b[43mforward_call\u001b[49m\u001b[43m(\u001b[49m\u001b[38;5;241;43m*\u001b[39;49m\u001b[38;5;28;43minput\u001b[39;49m\u001b[43m,\u001b[49m\u001b[43m \u001b[49m\u001b[38;5;241;43m*\u001b[39;49m\u001b[38;5;241;43m*\u001b[39;49m\u001b[43mkwargs\u001b[49m\u001b[43m)\u001b[49m\n\u001b[1;32m   1103\u001b[0m \u001b[38;5;66;03m# Do not call functions when jit is used\u001b[39;00m\n\u001b[1;32m   1104\u001b[0m full_backward_hooks, non_full_backward_hooks \u001b[38;5;241m=\u001b[39m [], []\n",
      "File \u001b[0;32m~/miniforge3/envs/aligning-construals/lib/python3.9/site-packages/torch/nn/modules/batchnorm.py:168\u001b[0m, in \u001b[0;36m_BatchNorm.forward\u001b[0;34m(self, input)\u001b[0m\n\u001b[1;32m    161\u001b[0m     bn_training \u001b[38;5;241m=\u001b[39m (\u001b[38;5;28mself\u001b[39m\u001b[38;5;241m.\u001b[39mrunning_mean \u001b[38;5;129;01mis\u001b[39;00m \u001b[38;5;28;01mNone\u001b[39;00m) \u001b[38;5;129;01mand\u001b[39;00m (\u001b[38;5;28mself\u001b[39m\u001b[38;5;241m.\u001b[39mrunning_var \u001b[38;5;129;01mis\u001b[39;00m \u001b[38;5;28;01mNone\u001b[39;00m)\n\u001b[1;32m    163\u001b[0m \u001b[38;5;124mr\u001b[39m\u001b[38;5;124;03m\"\"\"\u001b[39;00m\n\u001b[1;32m    164\u001b[0m \u001b[38;5;124;03mBuffers are only updated if they are to be tracked and we are in training mode. Thus they only need to be\u001b[39;00m\n\u001b[1;32m    165\u001b[0m \u001b[38;5;124;03mpassed when the update should occur (i.e. in training mode when they are tracked), or when buffer stats are\u001b[39;00m\n\u001b[1;32m    166\u001b[0m \u001b[38;5;124;03mused for normalization (i.e. in eval mode when buffers are not None).\u001b[39;00m\n\u001b[1;32m    167\u001b[0m \u001b[38;5;124;03m\"\"\"\u001b[39;00m\n\u001b[0;32m--> 168\u001b[0m \u001b[38;5;28;01mreturn\u001b[39;00m \u001b[43mF\u001b[49m\u001b[38;5;241;43m.\u001b[39;49m\u001b[43mbatch_norm\u001b[49m\u001b[43m(\u001b[49m\n\u001b[1;32m    169\u001b[0m \u001b[43m    \u001b[49m\u001b[38;5;28;43minput\u001b[39;49m\u001b[43m,\u001b[49m\n\u001b[1;32m    170\u001b[0m \u001b[43m    \u001b[49m\u001b[38;5;66;43;03m# If buffers are not to be tracked, ensure that they won't be updated\u001b[39;49;00m\n\u001b[1;32m    171\u001b[0m \u001b[43m    \u001b[49m\u001b[38;5;28;43mself\u001b[39;49m\u001b[38;5;241;43m.\u001b[39;49m\u001b[43mrunning_mean\u001b[49m\n\u001b[1;32m    172\u001b[0m \u001b[43m    \u001b[49m\u001b[38;5;28;43;01mif\u001b[39;49;00m\u001b[43m \u001b[49m\u001b[38;5;129;43;01mnot\u001b[39;49;00m\u001b[43m \u001b[49m\u001b[38;5;28;43mself\u001b[39;49m\u001b[38;5;241;43m.\u001b[39;49m\u001b[43mtraining\u001b[49m\u001b[43m \u001b[49m\u001b[38;5;129;43;01mor\u001b[39;49;00m\u001b[43m \u001b[49m\u001b[38;5;28;43mself\u001b[39;49m\u001b[38;5;241;43m.\u001b[39;49m\u001b[43mtrack_running_stats\u001b[49m\n\u001b[1;32m    173\u001b[0m \u001b[43m    \u001b[49m\u001b[38;5;28;43;01melse\u001b[39;49;00m\u001b[43m \u001b[49m\u001b[38;5;28;43;01mNone\u001b[39;49;00m\u001b[43m,\u001b[49m\n\u001b[1;32m    174\u001b[0m \u001b[43m    \u001b[49m\u001b[38;5;28;43mself\u001b[39;49m\u001b[38;5;241;43m.\u001b[39;49m\u001b[43mrunning_var\u001b[49m\u001b[43m \u001b[49m\u001b[38;5;28;43;01mif\u001b[39;49;00m\u001b[43m \u001b[49m\u001b[38;5;129;43;01mnot\u001b[39;49;00m\u001b[43m \u001b[49m\u001b[38;5;28;43mself\u001b[39;49m\u001b[38;5;241;43m.\u001b[39;49m\u001b[43mtraining\u001b[49m\u001b[43m \u001b[49m\u001b[38;5;129;43;01mor\u001b[39;49;00m\u001b[43m \u001b[49m\u001b[38;5;28;43mself\u001b[39;49m\u001b[38;5;241;43m.\u001b[39;49m\u001b[43mtrack_running_stats\u001b[49m\u001b[43m \u001b[49m\u001b[38;5;28;43;01melse\u001b[39;49;00m\u001b[43m \u001b[49m\u001b[38;5;28;43;01mNone\u001b[39;49;00m\u001b[43m,\u001b[49m\n\u001b[1;32m    175\u001b[0m \u001b[43m    \u001b[49m\u001b[38;5;28;43mself\u001b[39;49m\u001b[38;5;241;43m.\u001b[39;49m\u001b[43mweight\u001b[49m\u001b[43m,\u001b[49m\n\u001b[1;32m    176\u001b[0m \u001b[43m    \u001b[49m\u001b[38;5;28;43mself\u001b[39;49m\u001b[38;5;241;43m.\u001b[39;49m\u001b[43mbias\u001b[49m\u001b[43m,\u001b[49m\n\u001b[1;32m    177\u001b[0m \u001b[43m    \u001b[49m\u001b[43mbn_training\u001b[49m\u001b[43m,\u001b[49m\n\u001b[1;32m    178\u001b[0m \u001b[43m    \u001b[49m\u001b[43mexponential_average_factor\u001b[49m\u001b[43m,\u001b[49m\n\u001b[1;32m    179\u001b[0m \u001b[43m    \u001b[49m\u001b[38;5;28;43mself\u001b[39;49m\u001b[38;5;241;43m.\u001b[39;49m\u001b[43meps\u001b[49m\u001b[43m,\u001b[49m\n\u001b[1;32m    180\u001b[0m \u001b[43m\u001b[49m\u001b[43m)\u001b[49m\n",
      "File \u001b[0;32m~/miniforge3/envs/aligning-construals/lib/python3.9/site-packages/torch/nn/functional.py:2282\u001b[0m, in \u001b[0;36mbatch_norm\u001b[0;34m(input, running_mean, running_var, weight, bias, training, momentum, eps)\u001b[0m\n\u001b[1;32m   2279\u001b[0m \u001b[38;5;28;01mif\u001b[39;00m training:\n\u001b[1;32m   2280\u001b[0m     _verify_batch_size(\u001b[38;5;28minput\u001b[39m\u001b[38;5;241m.\u001b[39msize())\n\u001b[0;32m-> 2282\u001b[0m \u001b[38;5;28;01mreturn\u001b[39;00m \u001b[43mtorch\u001b[49m\u001b[38;5;241;43m.\u001b[39;49m\u001b[43mbatch_norm\u001b[49m\u001b[43m(\u001b[49m\n\u001b[1;32m   2283\u001b[0m \u001b[43m    \u001b[49m\u001b[38;5;28;43minput\u001b[39;49m\u001b[43m,\u001b[49m\u001b[43m \u001b[49m\u001b[43mweight\u001b[49m\u001b[43m,\u001b[49m\u001b[43m \u001b[49m\u001b[43mbias\u001b[49m\u001b[43m,\u001b[49m\u001b[43m \u001b[49m\u001b[43mrunning_mean\u001b[49m\u001b[43m,\u001b[49m\u001b[43m \u001b[49m\u001b[43mrunning_var\u001b[49m\u001b[43m,\u001b[49m\u001b[43m \u001b[49m\u001b[43mtraining\u001b[49m\u001b[43m,\u001b[49m\u001b[43m \u001b[49m\u001b[43mmomentum\u001b[49m\u001b[43m,\u001b[49m\u001b[43m \u001b[49m\u001b[43meps\u001b[49m\u001b[43m,\u001b[49m\u001b[43m \u001b[49m\u001b[43mtorch\u001b[49m\u001b[38;5;241;43m.\u001b[39;49m\u001b[43mbackends\u001b[49m\u001b[38;5;241;43m.\u001b[39;49m\u001b[43mcudnn\u001b[49m\u001b[38;5;241;43m.\u001b[39;49m\u001b[43menabled\u001b[49m\n\u001b[1;32m   2284\u001b[0m \u001b[43m\u001b[49m\u001b[43m)\u001b[49m\n",
      "\u001b[0;31mRuntimeError\u001b[0m: running_mean should contain 46208 elements not 32"
     ]
    },
    {
     "data": {
      "image/png": "[encoded data removed]",
      "text/plain": [
       "<Figure size 432x288 with 1 Axes>"
      ]
     },
     "metadata": {
      "needs_background": "light"
     },
     "output_type": "display_data"
    },
    {
     "data": {
      "image/png": "[encoded data removed]",
      "text/plain": [
       "<Figure size 432x288 with 1 Axes>"
      ]
     },
     "metadata": {
      "needs_background": "light"
     },
     "output_type": "display_data"
    }
   ],
   "source": [
    "env = gym.make('MiniGrid-DoorKeySpecial')\n",
    "env = RGBImgObsWrapper(env, TILE_SIZE) # Get pixel observations\n",
    "env = ImgObsWrapper(env) # Get rid of the 'mission' field\n",
    "\n",
    "keydist=False\n",
    "key_locations=[6,7]\n",
    "key_colors=[2,3]\n",
    "keydist_locations=[1,7]\n",
    "\n",
    "doordist=False\n",
    "door_locations=[6,7]\n",
    "door_colors=[3,4]\n",
    "doordist_locations=[9,10]\n",
    "\n",
    "goaldist=False\n",
    "goal_locations=[6,7]\n",
    "goal_colors=[4,5]\n",
    "goaldist_locations=[1,2]\n",
    "\n",
    "policy.eval()\n",
    "num_test_trajs = 1\n",
    "traj_horizon = 35\n",
    "dist_to_goals = []\n",
    "img = []\n",
    "\n",
    "for i in range(num_test_trajs):\n",
    "    obs = env.reset(keydist=keydist, doordist=doordist, goaldist=goaldist,\n",
    "                    key_locations=key_locations, key_colors=key_colors, keydist_locations=keydist_locations,\n",
    "                    door_locations=door_locations, door_colors=door_colors, doordist_locations=doordist_locations,\n",
    "                    goal_locations=goal_locations, goal_colors=goal_colors, goaldist_locations=goaldist_locations)[0]\n",
    "    show_step(obs)\n",
    "    img.append(obs.copy())\n",
    "    obs = downsize_obs(obs.copy())\n",
    "    goal = torch.Tensor(env.goal[None]).to(device)\n",
    "    print(env.goal_lang)\n",
    "    print(goal)\n",
    "    \n",
    "    traj = {'obs': [],'acts': [], 'true_goal': [], 'masked_states': [], 'masks': []}\n",
    "    for i in range(traj_horizon):\n",
    "        state = torch.Tensor(obs[None]).to(device)\n",
    "        if mask:\n",
    "            action, masked_state, img_mask = policy(goal,state)\n",
    "            action = torch.argmax(action.cpu().detach()[0]).numpy()\n",
    "            masked_state = masked_state.cpu().detach().numpy()[0].transpose((1,2,0))\n",
    "            img_mask = img_mask.cpu().detach().numpy()[0].transpose((1,2,0))\n",
    "            traj['masked_states'].append(masked_state)\n",
    "            traj['masks'].append(img_mask)\n",
    "            show_step(masked_state)\n",
    "        else:\n",
    "            action = policy(goal,state)[0]\n",
    "            action = torch.argmax(action.cpu().detach()).numpy()\n",
    "        traj['obs'].append(obs.copy())\n",
    "        traj['acts'].append(action.copy())\n",
    "        traj['true_goal'].append(env.goal_lang)\n",
    "        no = env.step(action)[0]\n",
    "        show_step(no)\n",
    "        img.append(no.copy())\n",
    "        obs = no.copy()\n",
    "    dist_to_goals.append(-np.linalg.norm((env.agent_pos - env.goal_location)))\n",
    "    traj['obs'] = np.array(traj['obs'])\n",
    "    traj['acts'] = np.array(traj['acts'])\n",
    "    traj['true_goal'] = np.array(traj['true_goal'])\n",
    "    #traj['masked_states'] = np.array(traj['masked_states'])\n",
    "    traj['masks'] = np.array(traj['masks'])\n",
    "print(\"Average dist to goal: \", np.mean(dist_to_goals))\n",
    "print(\"Average std: \", np.std(dist_to_goals))"
   ]
  },
  {
   "cell_type": "code",
   "execution_count": 11,
   "id": "daee6651-4b03-4317-9026-96713cc43915",
   "metadata": {},
   "outputs": [
    {
     "data": {
      "image/png": "[encoded data removed]",
      "text/plain": [
       "<Figure size 432x288 with 1 Axes>"
      ]
     },
     "metadata": {
      "needs_background": "light"
     },
     "output_type": "display_data"
    }
   ],
   "source": [
    "temp = 0\n",
    "plt.imshow(traj['obs'][temp])\n",
    "lime_obs = traj['obs'][temp]#.transpose(2,0,1)\n",
    "lime_goal = goal.cpu().detach()[0].tolist()"
   ]
  },
  {
   "cell_type": "code",
   "execution_count": 12,
   "id": "3d03078c-5875-48b0-a3dc-16ff304f3298",
   "metadata": {},
   "outputs": [],
   "source": [
    "def batch_predict(goals, obs):\n",
    "    policy.eval()\n",
    "    policy.to(device)\n",
    "    \n",
    "    obs = torch.Tensor(obs).to(device)\n",
    "    batches = obs.shape[0]\n",
    "    goals = torch.Tensor([goals]).to(device)\n",
    "    goals = goals.repeat(batches, 1)\n",
    "    #obs = torch.stack((obs, goals), dim=0)\n",
    "    \n",
    "    logits = policy(goals, obs)[0]\n",
    "    probs = F.softmax(logits, dim=1)\n",
    "    return probs.detach().cpu().numpy()"
   ]
  },
  {
   "cell_type": "code",
   "execution_count": 13,
   "id": "2ac42f55-6ec6-4cd3-a6d7-b0746025f2df",
   "metadata": {},
   "outputs": [
    {
     "data": {
      "text/plain": [
       "1"
      ]
     },
     "execution_count": 13,
     "metadata": {},
     "output_type": "execute_result"
    }
   ],
   "source": [
    "from functools import partial\n",
    "g = partial(batch_predict, lime_goal)\n",
    "test_pred = g([lime_obs])\n",
    "test_pred.squeeze().argmax()"
   ]
  },
  {
   "cell_type": "code",
   "execution_count": 14,
   "id": "224e9981-2750-42ba-9aff-01e7fd972345",
   "metadata": {},
   "outputs": [
    {
     "data": {
      "application/vnd.jupyter.widget-view+json": {
       "model_id": "a8174d46612341389bbb15cb3e4f2d34",
       "version_major": 2,
       "version_minor": 0
      },
      "text/plain": [
       "  0%|          | 0/1000 [00:00<?, ?it/s]"
      ]
     },
     "metadata": {},
     "output_type": "display_data"
    }
   ],
   "source": [
    "from lime import lime_image\n",
    "explainer = lime_image.LimeImageExplainer()\n",
    "explanation = explainer.explain_instance(np.array(lime_obs), \n",
    "                                         g, # prediction function\n",
    "                                         top_labels=5, \n",
    "                                         hide_color=0, \n",
    "                                         num_samples=1000) # number of images that will be sent to classification function"
   ]
  },
  {
   "cell_type": "code",
   "execution_count": 15,
   "id": "c8088483-d1f4-4737-b83f-0ed83a577c75",
   "metadata": {},
   "outputs": [
    {
     "data": {
      "text/plain": [
       "<matplotlib.image.AxesImage at 0x1726bcc10>"
      ]
     },
     "execution_count": 15,
     "metadata": {},
     "output_type": "execute_result"
    },
    {
     "data": {
      "image/png": "[encoded data removed]",
      "text/plain": [
       "<Figure size 432x288 with 1 Axes>"
      ]
     },
     "metadata": {
      "needs_background": "light"
     },
     "output_type": "display_data"
    }
   ],
   "source": [
    "from skimage.segmentation import mark_boundaries\n",
    "temp, mask1 = explanation.get_image_and_mask(explanation.top_labels[0], positive_only=True, num_features=5, hide_rest=True)\n",
    "img_boundry1 = mark_boundaries(temp/255.0, mask1)\n",
    "plt.imshow(img_boundry1)"
   ]
  },
  {
   "cell_type": "code",
   "execution_count": 16,
   "id": "d2281153-5667-44c4-b6ab-7c09f854e9b1",
   "metadata": {},
   "outputs": [
    {
     "data": {
      "text/plain": [
       "<matplotlib.image.AxesImage at 0x287c62910>"
      ]
     },
     "execution_count": 16,
     "metadata": {},
     "output_type": "execute_result"
    },
    {
     "data": {
      "image/png": "[encoded data removed]",
      "text/plain": [
       "<Figure size 432x288 with 1 Axes>"
      ]
     },
     "metadata": {
      "needs_background": "light"
     },
     "output_type": "display_data"
    }
   ],
   "source": [
    "temp, mask1 = explanation.get_image_and_mask(explanation.top_labels[0], positive_only=False, num_features=10, hide_rest=False)\n",
    "img_boundry2 = mark_boundaries(temp/255.0, mask1)\n",
    "plt.imshow(img_boundry2)"
   ]
  },
  {
   "cell_type": "code",
   "execution_count": null,
   "id": "438c2c33-73c1-4eb4-af01-dd3ef65212ac",
   "metadata": {},
   "outputs": [],
   "source": []
  }
 ],
 "metadata": {
  "kernelspec": {
   "display_name": "Python [conda env:aligning-construals] *",
   "language": "python",
   "name": "conda-env-aligning-construals-py"
  },
  "language_info": {
   "codemirror_mode": {
    "name": "ipython",
    "version": 3
   },
   "file_extension": ".py",
   "mimetype": "text/x-python",
   "name": "python",
   "nbconvert_exporter": "python",
   "pygments_lexer": "ipython3",
   "version": "3.9.13"
  }
 },
 "nbformat": 4,
 "nbformat_minor": 5
}
